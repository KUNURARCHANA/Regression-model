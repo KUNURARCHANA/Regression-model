{
 "cells": [
  {
   "cell_type": "markdown",
   "id": "33855602-9f59-4394-a361-ff4696bb52ec",
   "metadata": {},
   "source": [
    "# Description\n",
    "\n",
    "Welcome to the SalaryPredictor Project  by Kunur Archana. This project uses machine learning to redefine salary determination for new hires at TechWorks Consulting. Consideration of factors like education, experience, role, previous compensation, and academic records ensures fair and competitive salary predictions.\r\n",
    "\r\n"
   ]
  },
  {
   "cell_type": "markdown",
   "id": "f5cd03a5-bcf4-4764-8ab5-03c4f3ca0129",
   "metadata": {},
   "source": [
    "# Problem Statement\n",
    "- **Context and Company Background:** TechWorks Consulting, a company specializing in IT talent recruitment, and highlights its unique approach to matching skilled IT professionals with job opportunities.\n",
    "- **Data Description:** The Dataset conatins information about colleges, cities, roles, previous experience, and salary. This information will be used to train and test the predictive model.\n",
    "- **Regression Task:** The primary objective is to perform a regression task, where the aim is to predict a continuous variable, specifically the salary of newly hired employees.\n",
    "- **Role of Statistics:** The role of statistics is to build and check the accuracy of the model.\n",
    "- **Data Preprocessing:** Data Preprocessing is most important task as it involves tasks like handling missing values, outliers, categorical variables, normalization, and feature selection."
   ]
  },
  {
   "cell_type": "markdown",
   "id": "078ea130-b933-4a19-9739-9dd5c94414d9",
   "metadata": {},
   "source": [
    "# Creating a Salary Prediction Model: A Systematic Approach\n",
    "- **Data Understanding:**\n",
    "  - Begin by thoroughly understanding the provided dataset, including its structure, columns, and the meaning of each variable. Gain insights into the data's distribution, summary statistics, and potential outliers.\n",
    "- **Data Preprocessing:**\n",
    "  - Handle Missing Values: Identify and address missing data by imputation or removal, ensuring that data is complete.\n",
    "  - Outlier Detection and Treatment: Detect and handle outliers in the dataset, which could impact the model's accuracy.\n",
    "  - Convert Categorical Data: Transform categorical variables (e.g., \"College\" and \"City\") into numerical format.\n",
    "  - Normalize Data: Normalize numerical features to bring them to a common scale to avoid any feature dominating the model.\n",
    "  - Feature Selection: Use statistical techniques such as Lasso, Ridge, or correlation analysis to select the most relevant features for salary prediction.\n",
    "- **Performing Exploratory Data Analysis (EDA)**\n",
    "- **Model Selection:**\n",
    "    - Choose different regression models (e.g., Linear Regression, Multi Linear Regression) to build and evaluate the predictive models.\n",
    "- **Model Training and Evaluation:**\n",
    "    - Split the dataset into training and testing sets to train the models and assess their performance.\n",
    "    - Use appropriate evaluation metrics like Mean Squared Error (MSE), R-squared, and Mean Absolute Error (MAE) to measure the model's accuracy.\n",
    "    - Experiment with different hyperparameters for each model and use cross-validation to avoid overfitting.\n",
    "- **Model Comparison:**\n",
    "    - Compare the performance of different models and select the one with the best accuracy and generalization.\n",
    "- **Further Improvement:**\n",
    "    - Consider additional techniques for model improvement, such as feature engineering, hyperparameter tuning, and ensemble methods."
   ]
  },
  {
   "cell_type": "markdown",
   "id": "ef8c9911-1407-470b-b7c3-02cd39d12ef5",
   "metadata": {},
   "source": [
    "# The available ML model options had to perform on this task\n",
    "#### In the task of predicting employee salary at TechWorks Consulting, there are several machine learning model options available for regression tasks. The choice of the model depends on various factors, including the nature of the data, the complexity of the problem, and the need for model interpretability. Here are some of the available ML model options:\n",
    "**1. Linear Regression:**\n",
    "- Linear regression is a simple and interpretable model that assumes a linear relationship between the features and the target variable (salary). It's a good starting point and can provide baseline performance.\n",
    "\n",
    "**2. Ridge Regression and Lasso Regression:**\n",
    "- Ridge and Lasso regression are regularization techniques that can be used to handle multicollinearity and prevent overfitting. They are variants of linear regression that add regularization terms to the cost function.\n",
    "\n",
    "**3. Decision Trees:**\n",
    "- Decision tree-based models, like Random Forest and Gradient Boosting, are capable of capturing non-linear relationships in the data. They can handle both numerical and categorical features and automatically deal with feature importance.\n",
    "\n",
    "**4. K-Nearest Neighbors (KNN):**\n",
    "- KNN is a non-parametric method that makes predictions based on the average of the 'k' nearest data points. It can be effective for small to medium-sized datasets.\n",
    "\n",
    "**5. Polynomial Regression:**\n",
    "- Polynomial regression can be used to capture non-linear relationships by introducing polynomial features.\n",
    "\n",
    "In these 5 models, I will be performing only 3 of them with default parameters and with somes doing changes in parameter"
   ]
  },
  {
   "cell_type": "code",
   "execution_count": 6,
   "id": "40404809-4398-4bfd-96be-11c674cfa537",
   "metadata": {},
   "outputs": [],
   "source": [
    "# Import the pandas library for data manipulation and analysis\n",
    "# Import the numpy library for numerical operations and array processing\n",
    "# Import the seaborn library for data visualization\n",
    "\n",
    "import pandas as pd\n",
    "import numpy as np\n",
    "import seaborn as sns"
   ]
  },
  {
   "cell_type": "code",
   "execution_count": 7,
   "id": "f4ec1f61-3006-4fa5-a58d-9452bb32f2b3",
   "metadata": {},
   "outputs": [],
   "source": [
    "# Read a CSV file into a DataFrame\n",
    "\n",
    "df = pd.read_csv('C:/Users/kunur/Downloads/ML case Study.csv',header=0)\n",
    "college = pd.read_csv('C:/Users/kunur/Downloads/Colleges.csv',header=0)\n",
    "cities = pd.read_csv('C:/Users/kunur/Downloads/cities.csv',header=0)"
   ]
  },
  {
   "cell_type": "code",
   "execution_count": 8,
   "id": "1fe30ad2-26f1-455e-bc53-f57de76fa20f",
   "metadata": {},
   "outputs": [
    {
     "data": {
      "text/html": [
       "<div>\n",
       "<style scoped>\n",
       "    .dataframe tbody tr th:only-of-type {\n",
       "        vertical-align: middle;\n",
       "    }\n",
       "\n",
       "    .dataframe tbody tr th {\n",
       "        vertical-align: top;\n",
       "    }\n",
       "\n",
       "    .dataframe thead th {\n",
       "        text-align: right;\n",
       "    }\n",
       "</style>\n",
       "<table border=\"1\" class=\"dataframe\">\n",
       "  <thead>\n",
       "    <tr style=\"text-align: right;\">\n",
       "      <th></th>\n",
       "      <th>College</th>\n",
       "      <th>City</th>\n",
       "      <th>Role</th>\n",
       "      <th>Previous CTC</th>\n",
       "      <th>Previous job change</th>\n",
       "      <th>Graduation Marks</th>\n",
       "      <th>EXP (Month)</th>\n",
       "      <th>CTC</th>\n",
       "    </tr>\n",
       "  </thead>\n",
       "  <tbody>\n",
       "    <tr>\n",
       "      <th>0</th>\n",
       "      <td>SVNIT Surat</td>\n",
       "      <td>Asansol</td>\n",
       "      <td>Manager</td>\n",
       "      <td>55523.0</td>\n",
       "      <td>3</td>\n",
       "      <td>66</td>\n",
       "      <td>19</td>\n",
       "      <td>71406.58</td>\n",
       "    </tr>\n",
       "    <tr>\n",
       "      <th>1</th>\n",
       "      <td>NIT Bhopal</td>\n",
       "      <td>Ajmer</td>\n",
       "      <td>Executive</td>\n",
       "      <td>57081.0</td>\n",
       "      <td>1</td>\n",
       "      <td>84</td>\n",
       "      <td>18</td>\n",
       "      <td>68005.87</td>\n",
       "    </tr>\n",
       "    <tr>\n",
       "      <th>2</th>\n",
       "      <td>IEM, Kolkata</td>\n",
       "      <td>Rajpur Sonarpur</td>\n",
       "      <td>Executive</td>\n",
       "      <td>60347.0</td>\n",
       "      <td>2</td>\n",
       "      <td>52</td>\n",
       "      <td>28</td>\n",
       "      <td>76764.02</td>\n",
       "    </tr>\n",
       "    <tr>\n",
       "      <th>3</th>\n",
       "      <td>KIIT, Bhubaneswar</td>\n",
       "      <td>Ajmer</td>\n",
       "      <td>Executive</td>\n",
       "      <td>49010.0</td>\n",
       "      <td>2</td>\n",
       "      <td>81</td>\n",
       "      <td>33</td>\n",
       "      <td>82092.39</td>\n",
       "    </tr>\n",
       "    <tr>\n",
       "      <th>4</th>\n",
       "      <td>DTU</td>\n",
       "      <td>Durgapur</td>\n",
       "      <td>Executive</td>\n",
       "      <td>57879.0</td>\n",
       "      <td>4</td>\n",
       "      <td>74</td>\n",
       "      <td>32</td>\n",
       "      <td>73878.10</td>\n",
       "    </tr>\n",
       "  </tbody>\n",
       "</table>\n",
       "</div>"
      ],
      "text/plain": [
       "             College             City       Role  Previous CTC  \\\n",
       "0        SVNIT Surat          Asansol    Manager       55523.0   \n",
       "1         NIT Bhopal            Ajmer  Executive       57081.0   \n",
       "2       IEM, Kolkata  Rajpur Sonarpur  Executive       60347.0   \n",
       "3  KIIT, Bhubaneswar            Ajmer  Executive       49010.0   \n",
       "4                DTU         Durgapur  Executive       57879.0   \n",
       "\n",
       "   Previous job change  Graduation Marks  EXP (Month)       CTC  \n",
       "0                    3                66           19  71406.58  \n",
       "1                    1                84           18  68005.87  \n",
       "2                    2                52           28  76764.02  \n",
       "3                    2                81           33  82092.39  \n",
       "4                    4                74           32  73878.10  "
      ]
     },
     "execution_count": 8,
     "metadata": {},
     "output_type": "execute_result"
    }
   ],
   "source": [
    "# Overview of Data\n",
    "\n",
    "df.head()"
   ]
  },
  {
   "cell_type": "code",
   "execution_count": 9,
   "id": "a0bc9788-c8c6-4437-afbf-b58f4ccfd51d",
   "metadata": {},
   "outputs": [
    {
     "data": {
      "text/html": [
       "<div>\n",
       "<style scoped>\n",
       "    .dataframe tbody tr th:only-of-type {\n",
       "        vertical-align: middle;\n",
       "    }\n",
       "\n",
       "    .dataframe tbody tr th {\n",
       "        vertical-align: top;\n",
       "    }\n",
       "\n",
       "    .dataframe thead th {\n",
       "        text-align: right;\n",
       "    }\n",
       "</style>\n",
       "<table border=\"1\" class=\"dataframe\">\n",
       "  <thead>\n",
       "    <tr style=\"text-align: right;\">\n",
       "      <th></th>\n",
       "      <th>Tier 1</th>\n",
       "      <th>Tier 2</th>\n",
       "      <th>Tier 3</th>\n",
       "    </tr>\n",
       "  </thead>\n",
       "  <tbody>\n",
       "    <tr>\n",
       "      <th>0</th>\n",
       "      <td>IIT Bombay</td>\n",
       "      <td>IIIT Bangalore</td>\n",
       "      <td>Ramaiah Institute of Technology, Bengaluru</td>\n",
       "    </tr>\n",
       "    <tr>\n",
       "      <th>1</th>\n",
       "      <td>IIT Delhi</td>\n",
       "      <td>IIIT Delhi</td>\n",
       "      <td>TIET/Thapar University</td>\n",
       "    </tr>\n",
       "    <tr>\n",
       "      <th>2</th>\n",
       "      <td>IIT Kharagpur</td>\n",
       "      <td>IGDTUW</td>\n",
       "      <td>Manipal Main Campus</td>\n",
       "    </tr>\n",
       "    <tr>\n",
       "      <th>3</th>\n",
       "      <td>IIT Madras</td>\n",
       "      <td>NIT Calicut</td>\n",
       "      <td>VIT Vellore</td>\n",
       "    </tr>\n",
       "    <tr>\n",
       "      <th>4</th>\n",
       "      <td>IIT Kanpur</td>\n",
       "      <td>IIITM Gwalior</td>\n",
       "      <td>SRM Main Campus</td>\n",
       "    </tr>\n",
       "  </tbody>\n",
       "</table>\n",
       "</div>"
      ],
      "text/plain": [
       "          Tier 1          Tier 2                                      Tier 3\n",
       "0     IIT Bombay  IIIT Bangalore  Ramaiah Institute of Technology, Bengaluru\n",
       "1      IIT Delhi      IIIT Delhi                      TIET/Thapar University\n",
       "2  IIT Kharagpur          IGDTUW                         Manipal Main Campus\n",
       "3     IIT Madras     NIT Calicut                                 VIT Vellore\n",
       "4     IIT Kanpur   IIITM Gwalior                             SRM Main Campus"
      ]
     },
     "execution_count": 9,
     "metadata": {},
     "output_type": "execute_result"
    }
   ],
   "source": [
    "# Overview of College data\n",
    "\n",
    "college.head()"
   ]
  },
  {
   "cell_type": "code",
   "execution_count": 10,
   "id": "e54dec59-5df6-4b24-b264-09d2ff078873",
   "metadata": {},
   "outputs": [
    {
     "data": {
      "text/html": [
       "<div>\n",
       "<style scoped>\n",
       "    .dataframe tbody tr th:only-of-type {\n",
       "        vertical-align: middle;\n",
       "    }\n",
       "\n",
       "    .dataframe tbody tr th {\n",
       "        vertical-align: top;\n",
       "    }\n",
       "\n",
       "    .dataframe thead th {\n",
       "        text-align: right;\n",
       "    }\n",
       "</style>\n",
       "<table border=\"1\" class=\"dataframe\">\n",
       "  <thead>\n",
       "    <tr style=\"text-align: right;\">\n",
       "      <th></th>\n",
       "      <th>Metrio City</th>\n",
       "      <th>non-metro cities</th>\n",
       "    </tr>\n",
       "  </thead>\n",
       "  <tbody>\n",
       "    <tr>\n",
       "      <th>0</th>\n",
       "      <td>Mumbai</td>\n",
       "      <td>Dehradun</td>\n",
       "    </tr>\n",
       "    <tr>\n",
       "      <th>1</th>\n",
       "      <td>Delhi</td>\n",
       "      <td>Durgapur</td>\n",
       "    </tr>\n",
       "    <tr>\n",
       "      <th>2</th>\n",
       "      <td>Kolkata</td>\n",
       "      <td>Asansol</td>\n",
       "    </tr>\n",
       "    <tr>\n",
       "      <th>3</th>\n",
       "      <td>Chennai</td>\n",
       "      <td>Rourkela</td>\n",
       "    </tr>\n",
       "    <tr>\n",
       "      <th>4</th>\n",
       "      <td>Bangalore</td>\n",
       "      <td>Kozhikode</td>\n",
       "    </tr>\n",
       "  </tbody>\n",
       "</table>\n",
       "</div>"
      ],
      "text/plain": [
       "  Metrio City non-metro cities\n",
       "0      Mumbai         Dehradun\n",
       "1       Delhi         Durgapur\n",
       "2     Kolkata          Asansol\n",
       "3     Chennai         Rourkela\n",
       "4   Bangalore        Kozhikode"
      ]
     },
     "execution_count": 10,
     "metadata": {},
     "output_type": "execute_result"
    }
   ],
   "source": [
    "# Overview of City data\n",
    "\n",
    "cities.head()"
   ]
  },
  {
   "cell_type": "code",
   "execution_count": 11,
   "id": "c99f781d-78f6-47f0-902b-629bc74fae6a",
   "metadata": {},
   "outputs": [],
   "source": [
    "# Extract data from the \"Tier 1,\" \"Tier 2,\" and \"Tier 3\" columns of the 'college' DataFrame\n",
    "# and store them in separate lists 'Tier1,' 'Tier2,' and 'Tier3' for further analysis.\n",
    "\n",
    "Tier1 = college[\"Tier 1\"].tolist()\n",
    "Tier2 = college[\"Tier 2\"].tolist()\n",
    "Tier3 = college[\"Tier 3\"].tolist()"
   ]
  },
  {
   "cell_type": "code",
   "execution_count": 12,
   "id": "a4dc4da0-c758-41e8-b80e-f52ad0fc6aaa",
   "metadata": {},
   "outputs": [
    {
     "data": {
      "text/plain": [
       "['IIT Bombay',\n",
       " 'IIT Delhi',\n",
       " 'IIT Kharagpur',\n",
       " 'IIT Madras',\n",
       " 'IIT Kanpur',\n",
       " 'IIT Roorkee',\n",
       " 'IIT Guwahati',\n",
       " 'IIIT Hyderabad',\n",
       " 'BITS Pilani (Pilani Campus)',\n",
       " 'IIT Indore',\n",
       " 'IIT Ropar',\n",
       " 'IIT BHU (Varanasi)',\n",
       " 'IIT ISM Dhanbad',\n",
       " 'DTU',\n",
       " 'NSUT Delhi (NSIT)',\n",
       " 'NIT Tiruchipally (Trichy)',\n",
       " 'NIT Warangal',\n",
       " 'NIT Surathkal (Karnataka)',\n",
       " 'Jadavpur University',\n",
       " 'BITS Pilani (Hyderabad Campus)',\n",
       " 'BITS Pilani (Goa Campus)',\n",
       " 'IIIT Allahabad',\n",
       " nan,\n",
       " nan,\n",
       " nan,\n",
       " nan,\n",
       " nan,\n",
       " nan]"
      ]
     },
     "execution_count": 12,
     "metadata": {},
     "output_type": "execute_result"
    }
   ],
   "source": [
    "# Printing data contains in Tier1\n",
    "\n",
    "Tier1"
   ]
  },
  {
   "cell_type": "code",
   "execution_count": 13,
   "id": "4f76e129-f8b7-4038-8e44-efa04a98a5a6",
   "metadata": {},
   "outputs": [],
   "source": [
    "# Assign tier values to colleges in the DataFrame based on their tier classification\n",
    "# - If a college is in 'Tier1', set its value to 3\n",
    "# - If a college is in 'Tier2', set its value to 2\n",
    "# - If a college is in 'Tier3', set its value to 1\n",
    "# Tier1 college get value of 3 and tier 3 of 1 because tier1 college has higher weightage then 2 and 3.\n",
    "\n",
    "for item in df.College:\n",
    "    if item in Tier1:\n",
    "        df[\"College\"].replace(item,3,inplace=True)\n",
    "    elif item in Tier2:\n",
    "        df[\"College\"].replace(item,2,inplace=True)\n",
    "    elif item in Tier3:\n",
    "        df[\"College\"].replace(item,1,inplace=True)"
   ]
  },
  {
   "cell_type": "code",
   "execution_count": 14,
   "id": "b603099b-efdf-47dc-b06b-2f8fd6a142e7",
   "metadata": {},
   "outputs": [
    {
     "data": {
      "text/html": [
       "<div>\n",
       "<style scoped>\n",
       "    .dataframe tbody tr th:only-of-type {\n",
       "        vertical-align: middle;\n",
       "    }\n",
       "\n",
       "    .dataframe tbody tr th {\n",
       "        vertical-align: top;\n",
       "    }\n",
       "\n",
       "    .dataframe thead th {\n",
       "        text-align: right;\n",
       "    }\n",
       "</style>\n",
       "<table border=\"1\" class=\"dataframe\">\n",
       "  <thead>\n",
       "    <tr style=\"text-align: right;\">\n",
       "      <th></th>\n",
       "      <th>College</th>\n",
       "      <th>City</th>\n",
       "      <th>Role</th>\n",
       "      <th>Previous CTC</th>\n",
       "      <th>Previous job change</th>\n",
       "      <th>Graduation Marks</th>\n",
       "      <th>EXP (Month)</th>\n",
       "      <th>CTC</th>\n",
       "    </tr>\n",
       "  </thead>\n",
       "  <tbody>\n",
       "    <tr>\n",
       "      <th>0</th>\n",
       "      <td>2</td>\n",
       "      <td>Asansol</td>\n",
       "      <td>Manager</td>\n",
       "      <td>55523.0</td>\n",
       "      <td>3</td>\n",
       "      <td>66</td>\n",
       "      <td>19</td>\n",
       "      <td>71406.58</td>\n",
       "    </tr>\n",
       "    <tr>\n",
       "      <th>1</th>\n",
       "      <td>2</td>\n",
       "      <td>Ajmer</td>\n",
       "      <td>Executive</td>\n",
       "      <td>57081.0</td>\n",
       "      <td>1</td>\n",
       "      <td>84</td>\n",
       "      <td>18</td>\n",
       "      <td>68005.87</td>\n",
       "    </tr>\n",
       "    <tr>\n",
       "      <th>2</th>\n",
       "      <td>1</td>\n",
       "      <td>Rajpur Sonarpur</td>\n",
       "      <td>Executive</td>\n",
       "      <td>60347.0</td>\n",
       "      <td>2</td>\n",
       "      <td>52</td>\n",
       "      <td>28</td>\n",
       "      <td>76764.02</td>\n",
       "    </tr>\n",
       "    <tr>\n",
       "      <th>3</th>\n",
       "      <td>1</td>\n",
       "      <td>Ajmer</td>\n",
       "      <td>Executive</td>\n",
       "      <td>49010.0</td>\n",
       "      <td>2</td>\n",
       "      <td>81</td>\n",
       "      <td>33</td>\n",
       "      <td>82092.39</td>\n",
       "    </tr>\n",
       "    <tr>\n",
       "      <th>4</th>\n",
       "      <td>3</td>\n",
       "      <td>Durgapur</td>\n",
       "      <td>Executive</td>\n",
       "      <td>57879.0</td>\n",
       "      <td>4</td>\n",
       "      <td>74</td>\n",
       "      <td>32</td>\n",
       "      <td>73878.10</td>\n",
       "    </tr>\n",
       "  </tbody>\n",
       "</table>\n",
       "</div>"
      ],
      "text/plain": [
       "   College             City       Role  Previous CTC  Previous job change  \\\n",
       "0        2          Asansol    Manager       55523.0                    3   \n",
       "1        2            Ajmer  Executive       57081.0                    1   \n",
       "2        1  Rajpur Sonarpur  Executive       60347.0                    2   \n",
       "3        1            Ajmer  Executive       49010.0                    2   \n",
       "4        3         Durgapur  Executive       57879.0                    4   \n",
       "\n",
       "   Graduation Marks  EXP (Month)       CTC  \n",
       "0                66           19  71406.58  \n",
       "1                84           18  68005.87  \n",
       "2                52           28  76764.02  \n",
       "3                81           33  82092.39  \n",
       "4                74           32  73878.10  "
      ]
     },
     "execution_count": 14,
     "metadata": {},
     "output_type": "execute_result"
    }
   ],
   "source": [
    "df.head()"
   ]
  },
  {
   "cell_type": "code",
   "execution_count": 16,
   "id": "26b89344-fb02-4696-a05c-ff74c17c9f17",
   "metadata": {},
   "outputs": [],
   "source": [
    "# Extracting lists of metropolitan and non-metropolitan cities from the 'cities' DataFrame\n",
    "\n",
    "metro = cities['Metrio City'].tolist()\n",
    "non_metro_cities = cities['non-metro cities'].tolist()"
   ]
  },
  {
   "cell_type": "code",
   "execution_count": 17,
   "id": "419b6333-98dc-4731-a3ee-bfc6395a7bbd",
   "metadata": {},
   "outputs": [],
   "source": [
    "# Repeating previpus steps and assigning value as 1 if city is merto and 0 if non metro\n",
    "\n",
    "for item in df.City:\n",
    "    if item in metro:\n",
    "        df['City'].replace(item,1,inplace=True)\n",
    "    elif item in non_metro_cities:\n",
    "        df['City'].replace(item,0,inplace=True)"
   ]
  },
  {
   "cell_type": "markdown",
   "id": "2fb8c14f-b1cf-4cf2-b75e-e4386acb1ccc",
   "metadata": {},
   "source": [
    "# Converting Categorical column 'Role' into numerical\n",
    "\n"
   ]
  },
  {
   "cell_type": "code",
   "execution_count": 18,
   "id": "05ab16b3-e8b0-4132-8c2a-b34462e6f8b0",
   "metadata": {},
   "outputs": [],
   "source": [
    "df = pd.get_dummies(df, drop_first=True)"
   ]
  },
  {
   "cell_type": "code",
   "execution_count": 19,
   "id": "ce4723e3-9fda-4d2c-89e8-fbecff2ece5a",
   "metadata": {},
   "outputs": [
    {
     "data": {
      "text/html": [
       "<div>\n",
       "<style scoped>\n",
       "    .dataframe tbody tr th:only-of-type {\n",
       "        vertical-align: middle;\n",
       "    }\n",
       "\n",
       "    .dataframe tbody tr th {\n",
       "        vertical-align: top;\n",
       "    }\n",
       "\n",
       "    .dataframe thead th {\n",
       "        text-align: right;\n",
       "    }\n",
       "</style>\n",
       "<table border=\"1\" class=\"dataframe\">\n",
       "  <thead>\n",
       "    <tr style=\"text-align: right;\">\n",
       "      <th></th>\n",
       "      <th>College</th>\n",
       "      <th>City</th>\n",
       "      <th>Previous CTC</th>\n",
       "      <th>Previous job change</th>\n",
       "      <th>Graduation Marks</th>\n",
       "      <th>EXP (Month)</th>\n",
       "      <th>CTC</th>\n",
       "      <th>Role_Manager</th>\n",
       "    </tr>\n",
       "  </thead>\n",
       "  <tbody>\n",
       "    <tr>\n",
       "      <th>1190</th>\n",
       "      <td>2</td>\n",
       "      <td>0</td>\n",
       "      <td>60025.0</td>\n",
       "      <td>2</td>\n",
       "      <td>54</td>\n",
       "      <td>31</td>\n",
       "      <td>71258.48</td>\n",
       "      <td>False</td>\n",
       "    </tr>\n",
       "    <tr>\n",
       "      <th>1091</th>\n",
       "      <td>3</td>\n",
       "      <td>0</td>\n",
       "      <td>50140.0</td>\n",
       "      <td>2</td>\n",
       "      <td>42</td>\n",
       "      <td>55</td>\n",
       "      <td>77386.51</td>\n",
       "      <td>False</td>\n",
       "    </tr>\n",
       "    <tr>\n",
       "      <th>589</th>\n",
       "      <td>1</td>\n",
       "      <td>1</td>\n",
       "      <td>57851.0</td>\n",
       "      <td>1</td>\n",
       "      <td>79</td>\n",
       "      <td>38</td>\n",
       "      <td>61211.79</td>\n",
       "      <td>False</td>\n",
       "    </tr>\n",
       "    <tr>\n",
       "      <th>1154</th>\n",
       "      <td>2</td>\n",
       "      <td>1</td>\n",
       "      <td>51556.0</td>\n",
       "      <td>4</td>\n",
       "      <td>84</td>\n",
       "      <td>48</td>\n",
       "      <td>70431.03</td>\n",
       "      <td>False</td>\n",
       "    </tr>\n",
       "    <tr>\n",
       "      <th>146</th>\n",
       "      <td>1</td>\n",
       "      <td>1</td>\n",
       "      <td>60396.0</td>\n",
       "      <td>3</td>\n",
       "      <td>72</td>\n",
       "      <td>46</td>\n",
       "      <td>96190.72</td>\n",
       "      <td>True</td>\n",
       "    </tr>\n",
       "  </tbody>\n",
       "</table>\n",
       "</div>"
      ],
      "text/plain": [
       "      College  City  Previous CTC  Previous job change  Graduation Marks  \\\n",
       "1190        2     0       60025.0                    2                54   \n",
       "1091        3     0       50140.0                    2                42   \n",
       "589         1     1       57851.0                    1                79   \n",
       "1154        2     1       51556.0                    4                84   \n",
       "146         1     1       60396.0                    3                72   \n",
       "\n",
       "      EXP (Month)       CTC  Role_Manager  \n",
       "1190           31  71258.48         False  \n",
       "1091           55  77386.51         False  \n",
       "589            38  61211.79         False  \n",
       "1154           48  70431.03         False  \n",
       "146            46  96190.72          True  "
      ]
     },
     "execution_count": 19,
     "metadata": {},
     "output_type": "execute_result"
    }
   ],
   "source": [
    "df.sample(5)"
   ]
  },
  {
   "cell_type": "code",
   "execution_count": 20,
   "id": "93856f96-692b-4a3f-9f3e-03bccedacb52",
   "metadata": {},
   "outputs": [
    {
     "data": {
      "text/plain": [
       "College                0\n",
       "City                   0\n",
       "Previous CTC           0\n",
       "Previous job change    0\n",
       "Graduation Marks       0\n",
       "EXP (Month)            0\n",
       "CTC                    0\n",
       "Role_Manager           0\n",
       "dtype: int64"
      ]
     },
     "execution_count": 20,
     "metadata": {},
     "output_type": "execute_result"
    }
   ],
   "source": [
    "# Checking missing values in data\n",
    "\n",
    "df.isna().sum()"
   ]
  },
  {
   "cell_type": "code",
   "execution_count": 21,
   "id": "d54ed583-d79b-4275-a936-76fcac42f60b",
   "metadata": {},
   "outputs": [
    {
     "name": "stdout",
     "output_type": "stream",
     "text": [
      "<class 'pandas.core.frame.DataFrame'>\n",
      "RangeIndex: 1589 entries, 0 to 1588\n",
      "Data columns (total 8 columns):\n",
      " #   Column               Non-Null Count  Dtype  \n",
      "---  ------               --------------  -----  \n",
      " 0   College              1589 non-null   int64  \n",
      " 1   City                 1589 non-null   int64  \n",
      " 2   Previous CTC         1589 non-null   float64\n",
      " 3   Previous job change  1589 non-null   int64  \n",
      " 4   Graduation Marks     1589 non-null   int64  \n",
      " 5   EXP (Month)          1589 non-null   int64  \n",
      " 6   CTC                  1589 non-null   float64\n",
      " 7   Role_Manager         1589 non-null   bool   \n",
      "dtypes: bool(1), float64(2), int64(5)\n",
      "memory usage: 88.6 KB\n"
     ]
    }
   ],
   "source": [
    "# Information about data\n",
    "df.info()"
   ]
  },
  {
   "cell_type": "code",
   "execution_count": 22,
   "id": "7e22bd27-f281-4594-a836-4745f9474de3",
   "metadata": {},
   "outputs": [
    {
     "data": {
      "text/html": [
       "<div>\n",
       "<style scoped>\n",
       "    .dataframe tbody tr th:only-of-type {\n",
       "        vertical-align: middle;\n",
       "    }\n",
       "\n",
       "    .dataframe tbody tr th {\n",
       "        vertical-align: top;\n",
       "    }\n",
       "\n",
       "    .dataframe thead th {\n",
       "        text-align: right;\n",
       "    }\n",
       "</style>\n",
       "<table border=\"1\" class=\"dataframe\">\n",
       "  <thead>\n",
       "    <tr style=\"text-align: right;\">\n",
       "      <th></th>\n",
       "      <th>College</th>\n",
       "      <th>City</th>\n",
       "      <th>Previous CTC</th>\n",
       "      <th>Previous job change</th>\n",
       "      <th>Graduation Marks</th>\n",
       "      <th>EXP (Month)</th>\n",
       "      <th>CTC</th>\n",
       "    </tr>\n",
       "  </thead>\n",
       "  <tbody>\n",
       "    <tr>\n",
       "      <th>count</th>\n",
       "      <td>1589.000000</td>\n",
       "      <td>1589.000000</td>\n",
       "      <td>1589.000000</td>\n",
       "      <td>1589.000000</td>\n",
       "      <td>1589.000000</td>\n",
       "      <td>1589.000000</td>\n",
       "      <td>1589.000000</td>\n",
       "    </tr>\n",
       "    <tr>\n",
       "      <th>mean</th>\n",
       "      <td>2.024544</td>\n",
       "      <td>0.514160</td>\n",
       "      <td>55518.453744</td>\n",
       "      <td>2.528634</td>\n",
       "      <td>59.855255</td>\n",
       "      <td>39.044682</td>\n",
       "      <td>75353.278798</td>\n",
       "    </tr>\n",
       "    <tr>\n",
       "      <th>std</th>\n",
       "      <td>0.838330</td>\n",
       "      <td>0.499957</td>\n",
       "      <td>6655.218445</td>\n",
       "      <td>1.123918</td>\n",
       "      <td>14.935139</td>\n",
       "      <td>14.108875</td>\n",
       "      <td>12587.288237</td>\n",
       "    </tr>\n",
       "    <tr>\n",
       "      <th>min</th>\n",
       "      <td>1.000000</td>\n",
       "      <td>0.000000</td>\n",
       "      <td>36990.000000</td>\n",
       "      <td>1.000000</td>\n",
       "      <td>35.000000</td>\n",
       "      <td>18.000000</td>\n",
       "      <td>53020.320000</td>\n",
       "    </tr>\n",
       "    <tr>\n",
       "      <th>25%</th>\n",
       "      <td>1.000000</td>\n",
       "      <td>0.000000</td>\n",
       "      <td>50518.000000</td>\n",
       "      <td>2.000000</td>\n",
       "      <td>46.000000</td>\n",
       "      <td>26.000000</td>\n",
       "      <td>66902.350000</td>\n",
       "    </tr>\n",
       "    <tr>\n",
       "      <th>50%</th>\n",
       "      <td>2.000000</td>\n",
       "      <td>1.000000</td>\n",
       "      <td>55291.000000</td>\n",
       "      <td>3.000000</td>\n",
       "      <td>60.000000</td>\n",
       "      <td>39.000000</td>\n",
       "      <td>73028.670000</td>\n",
       "    </tr>\n",
       "    <tr>\n",
       "      <th>75%</th>\n",
       "      <td>3.000000</td>\n",
       "      <td>1.000000</td>\n",
       "      <td>60109.000000</td>\n",
       "      <td>4.000000</td>\n",
       "      <td>73.000000</td>\n",
       "      <td>51.000000</td>\n",
       "      <td>80588.670000</td>\n",
       "    </tr>\n",
       "    <tr>\n",
       "      <th>max</th>\n",
       "      <td>3.000000</td>\n",
       "      <td>1.000000</td>\n",
       "      <td>77911.000000</td>\n",
       "      <td>4.000000</td>\n",
       "      <td>85.000000</td>\n",
       "      <td>64.000000</td>\n",
       "      <td>123416.990000</td>\n",
       "    </tr>\n",
       "  </tbody>\n",
       "</table>\n",
       "</div>"
      ],
      "text/plain": [
       "           College         City  Previous CTC  Previous job change  \\\n",
       "count  1589.000000  1589.000000   1589.000000          1589.000000   \n",
       "mean      2.024544     0.514160  55518.453744             2.528634   \n",
       "std       0.838330     0.499957   6655.218445             1.123918   \n",
       "min       1.000000     0.000000  36990.000000             1.000000   \n",
       "25%       1.000000     0.000000  50518.000000             2.000000   \n",
       "50%       2.000000     1.000000  55291.000000             3.000000   \n",
       "75%       3.000000     1.000000  60109.000000             4.000000   \n",
       "max       3.000000     1.000000  77911.000000             4.000000   \n",
       "\n",
       "       Graduation Marks  EXP (Month)            CTC  \n",
       "count       1589.000000  1589.000000    1589.000000  \n",
       "mean          59.855255    39.044682   75353.278798  \n",
       "std           14.935139    14.108875   12587.288237  \n",
       "min           35.000000    18.000000   53020.320000  \n",
       "25%           46.000000    26.000000   66902.350000  \n",
       "50%           60.000000    39.000000   73028.670000  \n",
       "75%           73.000000    51.000000   80588.670000  \n",
       "max           85.000000    64.000000  123416.990000  "
      ]
     },
     "execution_count": 22,
     "metadata": {},
     "output_type": "execute_result"
    }
   ],
   "source": [
    "# Statistical info about numerical data\n",
    "\n",
    "df.describe()"
   ]
  },
  {
   "cell_type": "markdown",
   "id": "27d48041-151e-4257-beec-5d6ca099dbde",
   "metadata": {},
   "source": [
    "# Detection of Outliers"
   ]
  },
  {
   "cell_type": "code",
   "execution_count": 23,
   "id": "4d2c7ab7-1de5-43b7-b915-418d15a2c3bd",
   "metadata": {},
   "outputs": [
    {
     "data": {
      "text/plain": [
       "<Axes: >"
      ]
     },
     "execution_count": 23,
     "metadata": {},
     "output_type": "execute_result"
    },
    {
     "data": {
      "image/png": "[encoded data removed]",
      "text/plain": [
       "<Figure size 640x480 with 1 Axes>"
      ]
     },
     "metadata": {},
     "output_type": "display_data"
    }
   ],
   "source": [
    "# Using seaborn library to plot box plot for detection of outliers\n",
    "sns.boxplot(df['Previous CTC'])"
   ]
  },
  {
   "cell_type": "code",
   "execution_count": 24,
   "id": "9cfeda7b-af76-401a-8db7-47b1f04ef7b7",
   "metadata": {},
   "outputs": [
    {
     "data": {
      "text/plain": [
       "<Axes: >"
      ]
     },
     "execution_count": 24,
     "metadata": {},
     "output_type": "execute_result"
    },
    {
     "data": {
      "image/png": "[encoded data removed]",
      "text/plain": [
       "<Figure size 640x480 with 1 Axes>"
      ]
     },
     "metadata": {},
     "output_type": "display_data"
    }
   ],
   "source": [
    "sns.boxplot(df['Graduation Marks'])"
   ]
  },
  {
   "cell_type": "code",
   "execution_count": 25,
   "id": "07e57a2e-353e-4e4c-849e-c77a5e1616c1",
   "metadata": {},
   "outputs": [
    {
     "data": {
      "text/plain": [
       "<Axes: >"
      ]
     },
     "execution_count": 25,
     "metadata": {},
     "output_type": "execute_result"
    },
    {
     "data": {
      "image/png": "[encoded data removed]",
      "text/plain": [
       "<Figure size 640x480 with 1 Axes>"
      ]
     },
     "metadata": {},
     "output_type": "display_data"
    }
   ],
   "source": [
    "sns.boxplot(df['EXP (Month)'])"
   ]
  },
  {
   "cell_type": "code",
   "execution_count": 26,
   "id": "563efeb7-dcd1-4eda-94c6-eed50f85deab",
   "metadata": {},
   "outputs": [
    {
     "data": {
      "text/plain": [
       "<Axes: >"
      ]
     },
     "execution_count": 26,
     "metadata": {},
     "output_type": "execute_result"
    },
    {
     "data": {
      "image/png": "[encoded data removed]",
      "text/plain": [
       "<Figure size 640x480 with 1 Axes>"
      ]
     },
     "metadata": {},
     "output_type": "display_data"
    }
   ],
   "source": [
    "sns.boxplot(df['CTC'])"
   ]
  },
  {
   "cell_type": "code",
   "execution_count": 27,
   "id": "1b622c7f-4e60-48d9-be94-f203485440de",
   "metadata": {},
   "outputs": [
    {
     "data": {
      "text/html": [
       "<div>\n",
       "<style scoped>\n",
       "    .dataframe tbody tr th:only-of-type {\n",
       "        vertical-align: middle;\n",
       "    }\n",
       "\n",
       "    .dataframe tbody tr th {\n",
       "        vertical-align: top;\n",
       "    }\n",
       "\n",
       "    .dataframe thead th {\n",
       "        text-align: right;\n",
       "    }\n",
       "</style>\n",
       "<table border=\"1\" class=\"dataframe\">\n",
       "  <thead>\n",
       "    <tr style=\"text-align: right;\">\n",
       "      <th></th>\n",
       "      <th>College</th>\n",
       "      <th>City</th>\n",
       "      <th>Previous CTC</th>\n",
       "      <th>Previous job change</th>\n",
       "      <th>Graduation Marks</th>\n",
       "      <th>EXP (Month)</th>\n",
       "      <th>CTC</th>\n",
       "      <th>Role_Manager</th>\n",
       "    </tr>\n",
       "  </thead>\n",
       "  <tbody>\n",
       "    <tr>\n",
       "      <th>College</th>\n",
       "      <td>1.000000</td>\n",
       "      <td>0.014946</td>\n",
       "      <td>-0.041979</td>\n",
       "      <td>0.055060</td>\n",
       "      <td>-0.003539</td>\n",
       "      <td>-0.011752</td>\n",
       "      <td>0.029592</td>\n",
       "      <td>0.014749</td>\n",
       "    </tr>\n",
       "    <tr>\n",
       "      <th>City</th>\n",
       "      <td>0.014946</td>\n",
       "      <td>1.000000</td>\n",
       "      <td>0.004644</td>\n",
       "      <td>0.051670</td>\n",
       "      <td>-0.018616</td>\n",
       "      <td>-0.023613</td>\n",
       "      <td>-0.020365</td>\n",
       "      <td>-0.048671</td>\n",
       "    </tr>\n",
       "    <tr>\n",
       "      <th>Previous CTC</th>\n",
       "      <td>-0.041979</td>\n",
       "      <td>0.004644</td>\n",
       "      <td>1.000000</td>\n",
       "      <td>0.005756</td>\n",
       "      <td>-0.032976</td>\n",
       "      <td>0.119163</td>\n",
       "      <td>0.258000</td>\n",
       "      <td>0.012321</td>\n",
       "    </tr>\n",
       "    <tr>\n",
       "      <th>Previous job change</th>\n",
       "      <td>0.055060</td>\n",
       "      <td>0.051670</td>\n",
       "      <td>0.005756</td>\n",
       "      <td>1.000000</td>\n",
       "      <td>0.019267</td>\n",
       "      <td>0.023488</td>\n",
       "      <td>0.011370</td>\n",
       "      <td>-0.017150</td>\n",
       "    </tr>\n",
       "    <tr>\n",
       "      <th>Graduation Marks</th>\n",
       "      <td>-0.003539</td>\n",
       "      <td>-0.018616</td>\n",
       "      <td>-0.032976</td>\n",
       "      <td>0.019267</td>\n",
       "      <td>1.000000</td>\n",
       "      <td>-0.057061</td>\n",
       "      <td>-0.005450</td>\n",
       "      <td>0.017858</td>\n",
       "    </tr>\n",
       "    <tr>\n",
       "      <th>EXP (Month)</th>\n",
       "      <td>-0.011752</td>\n",
       "      <td>-0.023613</td>\n",
       "      <td>0.119163</td>\n",
       "      <td>0.023488</td>\n",
       "      <td>-0.057061</td>\n",
       "      <td>1.000000</td>\n",
       "      <td>0.301115</td>\n",
       "      <td>-0.026751</td>\n",
       "    </tr>\n",
       "    <tr>\n",
       "      <th>CTC</th>\n",
       "      <td>0.029592</td>\n",
       "      <td>-0.020365</td>\n",
       "      <td>0.258000</td>\n",
       "      <td>0.011370</td>\n",
       "      <td>-0.005450</td>\n",
       "      <td>0.301115</td>\n",
       "      <td>1.000000</td>\n",
       "      <td>0.621311</td>\n",
       "    </tr>\n",
       "    <tr>\n",
       "      <th>Role_Manager</th>\n",
       "      <td>0.014749</td>\n",
       "      <td>-0.048671</td>\n",
       "      <td>0.012321</td>\n",
       "      <td>-0.017150</td>\n",
       "      <td>0.017858</td>\n",
       "      <td>-0.026751</td>\n",
       "      <td>0.621311</td>\n",
       "      <td>1.000000</td>\n",
       "    </tr>\n",
       "  </tbody>\n",
       "</table>\n",
       "</div>"
      ],
      "text/plain": [
       "                      College      City  Previous CTC  Previous job change  \\\n",
       "College              1.000000  0.014946     -0.041979             0.055060   \n",
       "City                 0.014946  1.000000      0.004644             0.051670   \n",
       "Previous CTC        -0.041979  0.004644      1.000000             0.005756   \n",
       "Previous job change  0.055060  0.051670      0.005756             1.000000   \n",
       "Graduation Marks    -0.003539 -0.018616     -0.032976             0.019267   \n",
       "EXP (Month)         -0.011752 -0.023613      0.119163             0.023488   \n",
       "CTC                  0.029592 -0.020365      0.258000             0.011370   \n",
       "Role_Manager         0.014749 -0.048671      0.012321            -0.017150   \n",
       "\n",
       "                     Graduation Marks  EXP (Month)       CTC  Role_Manager  \n",
       "College                     -0.003539    -0.011752  0.029592      0.014749  \n",
       "City                        -0.018616    -0.023613 -0.020365     -0.048671  \n",
       "Previous CTC                -0.032976     0.119163  0.258000      0.012321  \n",
       "Previous job change          0.019267     0.023488  0.011370     -0.017150  \n",
       "Graduation Marks             1.000000    -0.057061 -0.005450      0.017858  \n",
       "EXP (Month)                 -0.057061     1.000000  0.301115     -0.026751  \n",
       "CTC                         -0.005450     0.301115  1.000000      0.621311  \n",
       "Role_Manager                 0.017858    -0.026751  0.621311      1.000000  "
      ]
     },
     "execution_count": 27,
     "metadata": {},
     "output_type": "execute_result"
    }
   ],
   "source": [
    "# Corelation between variables\n",
    "corr = df.corr()\n",
    "corr"
   ]
  },
  {
   "cell_type": "code",
   "execution_count": 28,
   "id": "6f424a85-f81d-4998-8439-601aee043227",
   "metadata": {},
   "outputs": [
    {
     "data": {
      "text/plain": [
       "<Axes: >"
      ]
     },
     "execution_count": 28,
     "metadata": {},
     "output_type": "execute_result"
    },
    {
     "data": {
      "image/png": "[encoded data removed]",
      "text/plain": [
       "<Figure size 640x480 with 2 Axes>"
      ]
     },
     "metadata": {},
     "output_type": "display_data"
    }
   ],
   "source": [
    "# Visual representation of corr\n",
    "# Heatmap\n",
    "sns.heatmap(data=corr)"
   ]
  },
  {
   "cell_type": "markdown",
   "id": "b6addd35-d54e-4c67-a7c8-1fb336344547",
   "metadata": {},
   "source": [
    "#### Outliers present in Previous CTC column"
   ]
  },
  {
   "cell_type": "code",
   "execution_count": 29,
   "id": "bd9003bf-cdad-4a89-8c3a-45a2ee434b57",
   "metadata": {},
   "outputs": [],
   "source": [
    "percent25 = df['Previous CTC'].quantile(0.25)\n",
    "percent75 = df['Previous CTC'].quantile(0.75)"
   ]
  },
  {
   "cell_type": "code",
   "execution_count": 30,
   "id": "55a59bf2-4b08-4933-b4e8-fe0438605f13",
   "metadata": {},
   "outputs": [],
   "source": [
    "iqr = percent75-percent25"
   ]
  },
  {
   "cell_type": "code",
   "execution_count": 31,
   "id": "e3f6b4f4-adff-4b5f-aee7-200c7ee66d32",
   "metadata": {},
   "outputs": [],
   "source": [
    "upper_limit = percent75 + 1.5*iqr\n",
    "lower_limit = percent25 - 1.5*iqr"
   ]
  },
  {
   "cell_type": "raw",
   "id": "ceedcce6-b862-435e-aa43-735ce12ace93",
   "metadata": {},
   "source": [
    "df[(df['Previous CTC'] < lower_limit) | (df['Previous CTC'] > upper_limit)]"
   ]
  },
  {
   "cell_type": "markdown",
   "id": "78d90849-ec1c-4dd6-9de7-c7bbc927d78c",
   "metadata": {},
   "source": [
    "In the above DataFrame, These are outliers present in \"Previous CTC\"column. As seen these outliers are not extreme, so in my opinion keeping these data may not affect much on my model."
   ]
  },
  {
   "cell_type": "markdown",
   "id": "e3e9c108-610d-4711-bc64-c8cfe74aa234",
   "metadata": {},
   "source": [
    "#### Outliers present in CTC column"
   ]
  },
  {
   "cell_type": "code",
   "execution_count": 32,
   "id": "9537c273-75d0-471c-b670-6cbdbf1ffcb4",
   "metadata": {},
   "outputs": [],
   "source": [
    "percent25 = df['CTC'].quantile(0.25)\n",
    "percent75 = df['CTC'].quantile(0.75)"
   ]
  },
  {
   "cell_type": "code",
   "execution_count": 33,
   "id": "03d328b9-1fc0-4884-a2f8-caa0c908cdd6",
   "metadata": {},
   "outputs": [],
   "source": [
    "iqr = percent75-percent25"
   ]
  },
  {
   "cell_type": "code",
   "execution_count": 34,
   "id": "f38e184d-c6a8-4ebd-81a3-8b9f25a01e4f",
   "metadata": {},
   "outputs": [],
   "source": [
    "upper_limit = percent75 + 1.5*iqr\n",
    "lower_limit = percent25 - 1.5*iqr"
   ]
  },
  {
   "cell_type": "code",
   "execution_count": 35,
   "id": "7ed531b1-c2f0-43d4-aebc-92df7737a49a",
   "metadata": {},
   "outputs": [
    {
     "data": {
      "text/html": [
       "<div>\n",
       "<style scoped>\n",
       "    .dataframe tbody tr th:only-of-type {\n",
       "        vertical-align: middle;\n",
       "    }\n",
       "\n",
       "    .dataframe tbody tr th {\n",
       "        vertical-align: top;\n",
       "    }\n",
       "\n",
       "    .dataframe thead th {\n",
       "        text-align: right;\n",
       "    }\n",
       "</style>\n",
       "<table border=\"1\" class=\"dataframe\">\n",
       "  <thead>\n",
       "    <tr style=\"text-align: right;\">\n",
       "      <th></th>\n",
       "      <th>College</th>\n",
       "      <th>City</th>\n",
       "      <th>Previous CTC</th>\n",
       "      <th>Previous job change</th>\n",
       "      <th>Graduation Marks</th>\n",
       "      <th>EXP (Month)</th>\n",
       "      <th>CTC</th>\n",
       "      <th>Role_Manager</th>\n",
       "    </tr>\n",
       "  </thead>\n",
       "  <tbody>\n",
       "    <tr>\n",
       "      <th>14</th>\n",
       "      <td>1</td>\n",
       "      <td>0</td>\n",
       "      <td>66487.0</td>\n",
       "      <td>1</td>\n",
       "      <td>50</td>\n",
       "      <td>27</td>\n",
       "      <td>103595.83</td>\n",
       "      <td>True</td>\n",
       "    </tr>\n",
       "    <tr>\n",
       "      <th>29</th>\n",
       "      <td>2</td>\n",
       "      <td>0</td>\n",
       "      <td>65172.0</td>\n",
       "      <td>1</td>\n",
       "      <td>44</td>\n",
       "      <td>31</td>\n",
       "      <td>107138.14</td>\n",
       "      <td>True</td>\n",
       "    </tr>\n",
       "    <tr>\n",
       "      <th>30</th>\n",
       "      <td>3</td>\n",
       "      <td>0</td>\n",
       "      <td>58529.0</td>\n",
       "      <td>1</td>\n",
       "      <td>65</td>\n",
       "      <td>22</td>\n",
       "      <td>102763.61</td>\n",
       "      <td>True</td>\n",
       "    </tr>\n",
       "    <tr>\n",
       "      <th>34</th>\n",
       "      <td>3</td>\n",
       "      <td>0</td>\n",
       "      <td>60894.0</td>\n",
       "      <td>4</td>\n",
       "      <td>80</td>\n",
       "      <td>28</td>\n",
       "      <td>118651.89</td>\n",
       "      <td>True</td>\n",
       "    </tr>\n",
       "    <tr>\n",
       "      <th>38</th>\n",
       "      <td>2</td>\n",
       "      <td>0</td>\n",
       "      <td>57485.0</td>\n",
       "      <td>1</td>\n",
       "      <td>77</td>\n",
       "      <td>35</td>\n",
       "      <td>103774.34</td>\n",
       "      <td>True</td>\n",
       "    </tr>\n",
       "    <tr>\n",
       "      <th>...</th>\n",
       "      <td>...</td>\n",
       "      <td>...</td>\n",
       "      <td>...</td>\n",
       "      <td>...</td>\n",
       "      <td>...</td>\n",
       "      <td>...</td>\n",
       "      <td>...</td>\n",
       "      <td>...</td>\n",
       "    </tr>\n",
       "    <tr>\n",
       "      <th>1447</th>\n",
       "      <td>1</td>\n",
       "      <td>0</td>\n",
       "      <td>59099.0</td>\n",
       "      <td>2</td>\n",
       "      <td>67</td>\n",
       "      <td>63</td>\n",
       "      <td>103305.30</td>\n",
       "      <td>True</td>\n",
       "    </tr>\n",
       "    <tr>\n",
       "      <th>1461</th>\n",
       "      <td>3</td>\n",
       "      <td>0</td>\n",
       "      <td>55440.0</td>\n",
       "      <td>4</td>\n",
       "      <td>72</td>\n",
       "      <td>44</td>\n",
       "      <td>112826.26</td>\n",
       "      <td>True</td>\n",
       "    </tr>\n",
       "    <tr>\n",
       "      <th>1513</th>\n",
       "      <td>1</td>\n",
       "      <td>0</td>\n",
       "      <td>58639.0</td>\n",
       "      <td>2</td>\n",
       "      <td>46</td>\n",
       "      <td>63</td>\n",
       "      <td>109108.12</td>\n",
       "      <td>True</td>\n",
       "    </tr>\n",
       "    <tr>\n",
       "      <th>1523</th>\n",
       "      <td>2</td>\n",
       "      <td>1</td>\n",
       "      <td>70258.0</td>\n",
       "      <td>4</td>\n",
       "      <td>38</td>\n",
       "      <td>36</td>\n",
       "      <td>115126.75</td>\n",
       "      <td>True</td>\n",
       "    </tr>\n",
       "    <tr>\n",
       "      <th>1580</th>\n",
       "      <td>3</td>\n",
       "      <td>1</td>\n",
       "      <td>53027.0</td>\n",
       "      <td>4</td>\n",
       "      <td>69</td>\n",
       "      <td>55</td>\n",
       "      <td>106846.34</td>\n",
       "      <td>False</td>\n",
       "    </tr>\n",
       "  </tbody>\n",
       "</table>\n",
       "<p>94 rows × 8 columns</p>\n",
       "</div>"
      ],
      "text/plain": [
       "      College  City  Previous CTC  Previous job change  Graduation Marks  \\\n",
       "14          1     0       66487.0                    1                50   \n",
       "29          2     0       65172.0                    1                44   \n",
       "30          3     0       58529.0                    1                65   \n",
       "34          3     0       60894.0                    4                80   \n",
       "38          2     0       57485.0                    1                77   \n",
       "...       ...   ...           ...                  ...               ...   \n",
       "1447        1     0       59099.0                    2                67   \n",
       "1461        3     0       55440.0                    4                72   \n",
       "1513        1     0       58639.0                    2                46   \n",
       "1523        2     1       70258.0                    4                38   \n",
       "1580        3     1       53027.0                    4                69   \n",
       "\n",
       "      EXP (Month)        CTC  Role_Manager  \n",
       "14             27  103595.83          True  \n",
       "29             31  107138.14          True  \n",
       "30             22  102763.61          True  \n",
       "34             28  118651.89          True  \n",
       "38             35  103774.34          True  \n",
       "...           ...        ...           ...  \n",
       "1447           63  103305.30          True  \n",
       "1461           44  112826.26          True  \n",
       "1513           63  109108.12          True  \n",
       "1523           36  115126.75          True  \n",
       "1580           55  106846.34         False  \n",
       "\n",
       "[94 rows x 8 columns]"
      ]
     },
     "execution_count": 35,
     "metadata": {},
     "output_type": "execute_result"
    }
   ],
   "source": [
    "df[(df['CTC'] < lower_limit) | (df['CTC'] > upper_limit)]"
   ]
  },
  {
   "cell_type": "markdown",
   "id": "da049084-296c-4aed-a83b-66a4b972f329",
   "metadata": {},
   "source": [
    "As seen above, these are some outliers in \"CTC\" column but they are not as extreme that can make any huge difference while making prediction. Therefore in my opinion keeping those outliers into data is more useful than removing."
   ]
  },
  {
   "cell_type": "markdown",
   "id": "0c4f6ae8-677b-4b14-8f7a-97d9c7e21d01",
   "metadata": {},
   "source": [
    "### Conclusion on detection of Outliers:\n",
    "- There were as such no extreme outliers present in our dataset that can make any huge difference in machine learning model. Also from describe function it is clear that there is no extreme outliers.\n",
    "- As seen above in \"Previous CTC\" and \"CTC\", there are some outliers but from my perspective these are not going to affect my model.\n",
    "- In the HeatMap figure, there are some relation between Role_manager and CTC and Previous CTC and CTC"
   ]
  },
  {
   "cell_type": "markdown",
   "id": "fa5d1412-f8ce-462a-b169-4f976d32aa97",
   "metadata": {},
   "source": [
    "# Applying Machine Learning models without Feature Scaling\n",
    "Here I am applying all possible algorithm without any scaling to check performance of model"
   ]
  },
  {
   "cell_type": "code",
   "execution_count": 39,
   "id": "916bce0e-aad0-430f-9149-990aa59f25b5",
   "metadata": {},
   "outputs": [],
   "source": [
    "# Import necessary libraries for data splitting, modeling, and evaluation\n",
    "\n",
    "from sklearn.model_selection import train_test_split\n",
    "from sklearn.linear_model import LinearRegression, Ridge, Lasso\n",
    "from sklearn.metrics import r2_score, mean_absolute_error, mean_squared_error"
   ]
  },
  {
   "cell_type": "code",
   "execution_count": 40,
   "id": "8ad42aa0-b159-4ecb-93ae-7a612211ac3e",
   "metadata": {},
   "outputs": [],
   "source": [
    "# Split data into dependent and Independent Variable\n",
    "\n",
    "X = df.loc[:, df.columns != 'CTC']\n",
    "y = df['CTC']"
   ]
  },
  {
   "cell_type": "code",
   "execution_count": 41,
   "id": "e92732a8-42d2-425a-a03d-d968cdc25931",
   "metadata": {},
   "outputs": [],
   "source": [
    "# Split Data into train and test with test_size = 0.2(80% data into train and 20% to test)\n",
    "\n",
    "X_train, X_test, y_train, y_test = train_test_split(X, y, test_size = 0.2, random_state = 42)"
   ]
  },
  {
   "cell_type": "code",
   "execution_count": 42,
   "id": "a42ada1a-a432-412f-bc56-3d3460408847",
   "metadata": {},
   "outputs": [
    {
     "data": {
      "text/plain": [
       "1079     74059.06\n",
       "405      84692.16\n",
       "1492     75028.75\n",
       "239      71001.53\n",
       "610      62426.39\n",
       "          ...    \n",
       "1023     67435.46\n",
       "700      62927.79\n",
       "486      75143.25\n",
       "672      60479.67\n",
       "1303    105077.70\n",
       "Name: CTC, Length: 318, dtype: float64"
      ]
     },
     "execution_count": 42,
     "metadata": {},
     "output_type": "execute_result"
    }
   ],
   "source": [
    "y_test"
   ]
  },
  {
   "cell_type": "code",
   "execution_count": 47,
   "id": "affc7277-d015-4e4b-a413-d082515cee4a",
   "metadata": {},
   "outputs": [
    {
     "name": "stdout",
     "output_type": "stream",
     "text": [
      "r2_score: 0.5933517958385097\n",
      "MAE: 7191.231067500027\n",
      "MSE: 77362774.94956529\n",
      "\n",
      "Coef: [5.17509158e+02 4.82800374e+02 4.22242899e-01 8.74331790e+00\n",
      " 1.94023127e+00 2.43718541e+02 1.86020838e+04]\n",
      "Intercept: 37159.52949669579\n"
     ]
    }
   ],
   "source": [
    "# Create a LinearRegression model\n",
    "linear_reg = LinearRegression()\n",
    "\n",
    "# Fit the model to the training data\n",
    "linear_reg.fit(X_train, y_train)\n",
    "\n",
    "# Make predictions on the test data\n",
    "linear_reg_pred = linear_reg.predict(X_test)\n",
    "\n",
    "# Calculate and print the R-squared (r2) score\n",
    "print(\"r2_score:\",r2_score(y_test, linear_reg_pred))\n",
    "\n",
    "# Calculate and print the Mean Absolute Error (MAE)\n",
    "print(\"MAE:\", mean_absolute_error(y_test, linear_reg_pred))\n",
    "\n",
    "# Calculate and print the Mean Squared Error (MSE)\n",
    "print(\"MSE:\", mean_squared_error(y_test, linear_reg_pred))\n",
    "\n",
    "print()\n",
    "\n",
    "# Print the coefficients of the linear regression model\n",
    "print(\"Coef:\",linear_reg.coef_)\n",
    "\n",
    "# Print the intercept of the linear regression model\n",
    "print(\"Intercept:\",linear_reg.intercept_)"
   ]
  },
  {
   "cell_type": "code",
   "execution_count": 48,
   "id": "764760ef-ac83-4076-ad77-e788e4942e5c",
   "metadata": {},
   "outputs": [
    {
     "name": "stdout",
     "output_type": "stream",
     "text": [
      "r2_score: 0.5926580862926116\n",
      "MAE: 7198.215276305912\n",
      "MSE: 77494749.70054281\n",
      "\n",
      "Coef: [5.16821192e+02 4.76920014e+02 4.22312444e-01 7.76895529e+00\n",
      " 1.98601422e+00 2.43648895e+02 1.85111317e+04]\n",
      "Intercept: 37180.93708654533\n"
     ]
    }
   ],
   "source": [
    "# Import the Ridge regression model\n",
    "ridge = Ridge()\n",
    "\n",
    "# Fit the model to training data\n",
    "ridge.fit(X_train, y_train)\n",
    "\n",
    "# Make prediction on test data\n",
    "ridge_predict = ridge.predict(X_test)\n",
    "\n",
    "# Calculate and print the R-squared (r2) score\n",
    "print(\"r2_score:\",r2_score(y_test, ridge_predict))\n",
    "\n",
    "# Calculate and print the Mean Absolute Error (MAE)\n",
    "print(\"MAE:\", mean_absolute_error(y_test, ridge_predict))\n",
    "\n",
    "# Calculate and print the Mean Squared Error (MSE)\n",
    "print(\"MSE:\", mean_squared_error(y_test, ridge_predict))\n",
    "\n",
    "print()\n",
    "\n",
    "# Print the coefficients of the linear regression model\n",
    "print(\"Coef:\",ridge.coef_)\n",
    "\n",
    "# Print the intercept of the linear regression model\n",
    "print(\"Intercept:\",ridge.intercept_)"
   ]
  },
  {
   "cell_type": "code",
   "execution_count": 49,
   "id": "755cf089-71e2-409e-8510-18be12f1058b",
   "metadata": {},
   "outputs": [
    {
     "name": "stdout",
     "output_type": "stream",
     "text": [
      "r2_score: 0.5926580862926116\n",
      "MAE: 7198.215276305912\n",
      "MSE: 77494749.70054281\n",
      "\n",
      "Coef: [5.17233686e+02 4.80438633e+02 4.22270801e-01 8.35234012e+00\n",
      " 1.95859703e+00 2.43690601e+02 1.85655957e+04]\n",
      "Intercept: 37168.118274432956\n"
     ]
    }
   ],
   "source": [
    "# Create a Ridge regression model with a specified alpha value and solver\n",
    "ridge_tuned = Ridge(alpha=0.4, solver='cholesky')\n",
    "\n",
    "# Fit the Ridge model to the training data\n",
    "ridge_tuned.fit(X_train, y_train)\n",
    "\n",
    "# Make predictions on the test data using the tuned Ridge model\n",
    "ridge_predict_tuned = ridge.predict(X_test)\n",
    "\n",
    "# Calculate and print the R-squared (r2) score to evaluate model performance\n",
    "print(\"r2_score:\",r2_score(y_test, ridge_predict_tuned))\n",
    "\n",
    "# Calculate and print the Mean Absolute Error (MAE) to measure prediction accuracy\n",
    "print(\"MAE:\", mean_absolute_error(y_test, ridge_predict_tuned))\n",
    "\n",
    "# Calculate and print the Mean Squared Error (MSE) to assess prediction accuracy\n",
    "print(\"MSE:\", mean_squared_error(y_test, ridge_predict_tuned))\n",
    "\n",
    "print()\n",
    "\n",
    "# Print the coefficients of the linear regression model\n",
    "print(\"Coef:\",ridge_tuned.coef_)\n",
    "\n",
    "# Print the intercept of the linear regression model\n",
    "print(\"Intercept:\",ridge_tuned.intercept_)"
   ]
  },
  {
   "cell_type": "code",
   "execution_count": 50,
   "id": "9e27979c-badf-4335-ad22-290205b9b890",
   "metadata": {},
   "outputs": [
    {
     "name": "stdout",
     "output_type": "stream",
     "text": [
      "r2_score: 0.5933030911807144\n",
      "MAE: 7191.7094203244\n",
      "MSE: 77372040.76567228\n",
      "\n",
      "Coef: [5.16164197e+02 4.78595253e+02 4.22241674e-01 8.05923215e+00\n",
      " 1.93522068e+00 2.43703723e+02 1.85954658e+04]\n",
      "Intercept: 37168.432177131945\n"
     ]
    }
   ],
   "source": [
    "# Create Lasso regression with default parameters\n",
    "\n",
    "lasso = Lasso()\n",
    "\n",
    "# Fit model with train data\n",
    "lasso.fit(X_train, y_train)\n",
    "\n",
    "# Make prediction on test data\n",
    "lasso_pred = lasso.predict(X_test)\n",
    "\n",
    "# Calculate and print the R-squared (r2) score to evaluate model performance\n",
    "print(\"r2_score:\",r2_score(y_test, lasso_pred))\n",
    "\n",
    "# Calculate and print the Mean Absolute Error (MAE) to measure prediction accuracy\n",
    "print(\"MAE:\", mean_absolute_error(y_test, lasso_pred))\n",
    "\n",
    "# Calculate and print the Mean Squared Error (MSE) to assess prediction accuracy\n",
    "print(\"MSE:\", mean_squared_error(y_test, lasso_pred))\n",
    "\n",
    "print()\n",
    "\n",
    "# Print the coefficients of the linear regression model\n",
    "print(\"Coef:\",lasso.coef_)\n",
    "\n",
    "# Print the intercept of the linear regression model\n",
    "print(\"Intercept:\",lasso.intercept_)"
   ]
  },
  {
   "cell_type": "code",
   "execution_count": 51,
   "id": "d0f34c06-727a-4e17-adf2-74ca496a07d7",
   "metadata": {},
   "outputs": [
    {
     "name": "stdout",
     "output_type": "stream",
     "text": [
      "r2_score: 0.5933323326500893\n",
      "MAE: 7191.42240870942\n",
      "MSE: 77366477.7232408\n"
     ]
    }
   ],
   "source": [
    "# Create Lasso regression with alpha value\n",
    "lasso_tuned = Lasso(alpha=0.4)\n",
    "\n",
    "# Fit the model on train data\n",
    "lasso_tuned.fit(X_train, y_train)\n",
    "\n",
    "# Prediction on test data\n",
    "lasso_tuned_pred = lasso_tuned.predict(X_test)\n",
    "\n",
    "# Calculate and print the R-squared (r2) score to evaluate model performance\n",
    "print(\"r2_score:\",r2_score(y_test, lasso_tuned_pred))\n",
    "\n",
    "# Calculate and print the mean absolute error(MSE) score to evaluate model performance\n",
    "print(\"MAE:\", mean_absolute_error(y_test, lasso_tuned_pred))\n",
    "\n",
    "# Calculate and print the Mean Squared Error (MSE) to assess prediction accuracy\n",
    "print(\"MSE:\", mean_squared_error(y_test, lasso_tuned_pred))"
   ]
  },
  {
   "cell_type": "code",
   "execution_count": 52,
   "id": "f6e325be-8a4d-465b-a5c9-ac5036ad726a",
   "metadata": {},
   "outputs": [],
   "source": [
    "# Import DecisionTreeRegressor\n",
    "from sklearn.tree import DecisionTreeRegressor"
   ]
  },
  {
   "cell_type": "code",
   "execution_count": 56,
   "id": "a84e48be-3df5-4adf-a645-821139e63c06",
   "metadata": {},
   "outputs": [
    {
     "name": "stdout",
     "output_type": "stream",
     "text": [
      "r2_score: 0.31695349552864116\n",
      "MAE: 8374.195440251571\n",
      "MSE: 129946160.99305315\n"
     ]
    }
   ],
   "source": [
    "# Create a DecisionTreeRegressor model\n",
    "dtr = DecisionTreeRegressor()\n",
    "\n",
    "# Train the model using the training data\n",
    "dtr.fit(X_train, y_train)\n",
    "\n",
    "# Train the model using the training data\n",
    "dtr_pred = dtr.predict(X_test)\n",
    "\n",
    "# Calculate and print the R-squared (r2) score to evaluate model performance\n",
    "print(\"r2_score:\",r2_score(y_test, dtr_pred))\n",
    "\n",
    "# Calculate and print the mean absolute error(MSE) score to evaluate model performance\n",
    "print(\"MAE:\", mean_absolute_error(y_test, dtr_pred))\n",
    "\n",
    "# Calculate and print the Mean Squared Error (MSE) to evaluate prediction errors\n",
    "print(\"MSE:\", mean_squared_error(y_test, dtr_pred))"
   ]
  },
  {
   "cell_type": "code",
   "execution_count": 57,
   "id": "08bcfea5-720e-45e3-962d-18c4f8be75c5",
   "metadata": {},
   "outputs": [
    {
     "name": "stdout",
     "output_type": "stream",
     "text": [
      "r2_score: 0.5974129112852862\n",
      "MAE: 6780.081301726802\n",
      "MSE: 76590168.16773771\n"
     ]
    }
   ],
   "source": [
    "# Create Decision tree with max depth = 4\n",
    "dtr_tuned = DecisionTreeRegressor(max_depth=4)\n",
    "\n",
    "# Fit model with train data\n",
    "dtr_tuned.fit(X_train, y_train)\n",
    "\n",
    "# Make prediction on test data\n",
    "dtr_tuned_pred = dtr_tuned.predict(X_test)\n",
    "\n",
    "# Calculate and print the R-squared (r2) score to evaluate model performance\n",
    "print(\"r2_score:\",r2_score(y_test, dtr_tuned_pred))\n",
    "\n",
    "# Calculate and print the mean absolute error(MSE) score to evaluate model performance\n",
    "print(\"MAE:\", mean_absolute_error(y_test, dtr_tuned_pred))\n",
    "\n",
    "# Calculate and print the Mean Squared Error (MSE) to evaluate prediction errors\n",
    "print(\"MSE:\", mean_squared_error(y_test, dtr_tuned_pred))"
   ]
  },
  {
   "cell_type": "code",
   "execution_count": 58,
   "id": "1d44d729-2747-441e-a683-19e8f0981ff6",
   "metadata": {},
   "outputs": [],
   "source": [
    "# Import Random Forest from sklearn\n",
    "from sklearn.ensemble import RandomForestRegressor\n",
    "from sklearn.model_selection import GridSearchCV"
   ]
  },
  {
   "cell_type": "code",
   "execution_count": 59,
   "id": "9cf6932c-828a-4ec3-8078-4bcecc0eb69e",
   "metadata": {},
   "outputs": [
    {
     "name": "stdout",
     "output_type": "stream",
     "text": [
      "r2_score: 0.6323595111664126\n",
      "MAE: 6426.644169496857\n",
      "MSE: 69941753.3605683\n"
     ]
    }
   ],
   "source": [
    "# Create Random forest regression on default parameters\n",
    "rnd = RandomForestRegressor()\n",
    "\n",
    "# Fit model on train data\n",
    "rnd.fit(X_train, y_train)\n",
    "\n",
    "# Make prediction on test data\n",
    "rnd_pred = rnd.predict(X_test)\n",
    "\n",
    "# Calculate and print the R-squared (r2) score to evaluate model performance\n",
    "print(\"r2_score:\",r2_score(y_test, rnd_pred))\n",
    "\n",
    "# Calculate and print the mean absolute error(MSE) score to evaluate model performance\n",
    "print(\"MAE:\", mean_absolute_error(y_test, rnd_pred))\n",
    "\n",
    "# Calculate and print the Mean Squared Error (MSE) to evaluate prediction errors\n",
    "print(\"MSE:\", mean_squared_error(y_test, rnd_pred))"
   ]
  },
  {
   "cell_type": "code",
   "execution_count": 60,
   "id": "b6082a9a-29f1-4c5f-ae86-c9eb913e1047",
   "metadata": {},
   "outputs": [
    {
     "name": "stdout",
     "output_type": "stream",
     "text": [
      "r2_score: 0.6327795157400619\n",
      "MAE: 6467.383718366089\n",
      "MSE: 69861849.60352108\n"
     ]
    }
   ],
   "source": [
    "# Create Random Forest regression with tuned parameters\n",
    "rnd_tuned = RandomForestRegressor(n_jobs=-1, max_features=5, min_samples_split=4)\n",
    "\n",
    "# Fit model on train data\n",
    "rnd_tuned.fit(X_train, y_train)\n",
    "\n",
    "# Make prediction on test data\n",
    "rnd_tuned_pred = rnd_tuned.predict(X_test)\n",
    "\n",
    "# Calculate and print the R-squared (r2) score to evaluate model performance\n",
    "print(\"r2_score:\",r2_score(y_test, rnd_tuned_pred))\n",
    "\n",
    "# Calculate and print the mean absolute error(MSE) score to evaluate model performance\n",
    "print(\"MAE:\", mean_absolute_error(y_test, rnd_tuned_pred))\n",
    "\n",
    "# Calculate and print the Mean Squared Error (MSE) to evaluate prediction errors\n",
    "print(\"MSE:\", mean_squared_error(y_test, rnd_tuned_pred))"
   ]
  },
  {
   "cell_type": "code",
   "execution_count": 61,
   "id": "0adb8a3b-b0e6-4095-b0ae-c90e2e201dc3",
   "metadata": {},
   "outputs": [],
   "source": [
    "# Parameters\n",
    "params_grid = {\"max_features\": [4,5,6,7,8,9,10],\n",
    "              \"min_samples_split\": [2,3,10]}"
   ]
  },
  {
   "cell_type": "code",
   "execution_count": 62,
   "id": "c98fe78a-7a17-4ce6-a55a-9f840992e54c",
   "metadata": {},
   "outputs": [],
   "source": [
    "# Find best parameter for model\n",
    "grid_search = GridSearchCV(rnd_tuned, params_grid, n_jobs=-1, cv=5)"
   ]
  },
  {
   "cell_type": "code",
   "execution_count": 63,
   "id": "93ddc404-2334-4bf9-854d-fca214d47e89",
   "metadata": {},
   "outputs": [
    {
     "data": {
      "text/html": [
       "<style>#sk-container-id-1 {color: black;background-color: white;}#sk-container-id-1 pre{padding: 0;}#sk-container-id-1 div.sk-toggleable {background-color: white;}#sk-container-id-1 label.sk-toggleable__label {cursor: pointer;display: block;width: 100%;margin-bottom: 0;padding: 0.3em;box-sizing: border-box;text-align: center;}#sk-container-id-1 label.sk-toggleable__label-arrow:before {content: \"▸\";float: left;margin-right: 0.25em;color: #696969;}#sk-container-id-1 label.sk-toggleable__label-arrow:hover:before {color: black;}#sk-container-id-1 div.sk-estimator:hover label.sk-toggleable__label-arrow:before {color: black;}#sk-container-id-1 div.sk-toggleable__content {max-height: 0;max-width: 0;overflow: hidden;text-align: left;background-color: #f0f8ff;}#sk-container-id-1 div.sk-toggleable__content pre {margin: 0.2em;color: black;border-radius: 0.25em;background-color: #f0f8ff;}#sk-container-id-1 input.sk-toggleable__control:checked~div.sk-toggleable__content {max-height: 200px;max-width: 100%;overflow: auto;}#sk-container-id-1 input.sk-toggleable__control:checked~label.sk-toggleable__label-arrow:before {content: \"▾\";}#sk-container-id-1 div.sk-estimator input.sk-toggleable__control:checked~label.sk-toggleable__label {background-color: #d4ebff;}#sk-container-id-1 div.sk-label input.sk-toggleable__control:checked~label.sk-toggleable__label {background-color: #d4ebff;}#sk-container-id-1 input.sk-hidden--visually {border: 0;clip: rect(1px 1px 1px 1px);clip: rect(1px, 1px, 1px, 1px);height: 1px;margin: -1px;overflow: hidden;padding: 0;position: absolute;width: 1px;}#sk-container-id-1 div.sk-estimator {font-family: monospace;background-color: #f0f8ff;border: 1px dotted black;border-radius: 0.25em;box-sizing: border-box;margin-bottom: 0.5em;}#sk-container-id-1 div.sk-estimator:hover {background-color: #d4ebff;}#sk-container-id-1 div.sk-parallel-item::after {content: \"\";width: 100%;border-bottom: 1px solid gray;flex-grow: 1;}#sk-container-id-1 div.sk-label:hover label.sk-toggleable__label {background-color: #d4ebff;}#sk-container-id-1 div.sk-serial::before {content: \"\";position: absolute;border-left: 1px solid gray;box-sizing: border-box;top: 0;bottom: 0;left: 50%;z-index: 0;}#sk-container-id-1 div.sk-serial {display: flex;flex-direction: column;align-items: center;background-color: white;padding-right: 0.2em;padding-left: 0.2em;position: relative;}#sk-container-id-1 div.sk-item {position: relative;z-index: 1;}#sk-container-id-1 div.sk-parallel {display: flex;align-items: stretch;justify-content: center;background-color: white;position: relative;}#sk-container-id-1 div.sk-item::before, #sk-container-id-1 div.sk-parallel-item::before {content: \"\";position: absolute;border-left: 1px solid gray;box-sizing: border-box;top: 0;bottom: 0;left: 50%;z-index: -1;}#sk-container-id-1 div.sk-parallel-item {display: flex;flex-direction: column;z-index: 1;position: relative;background-color: white;}#sk-container-id-1 div.sk-parallel-item:first-child::after {align-self: flex-end;width: 50%;}#sk-container-id-1 div.sk-parallel-item:last-child::after {align-self: flex-start;width: 50%;}#sk-container-id-1 div.sk-parallel-item:only-child::after {width: 0;}#sk-container-id-1 div.sk-dashed-wrapped {border: 1px dashed gray;margin: 0 0.4em 0.5em 0.4em;box-sizing: border-box;padding-bottom: 0.4em;background-color: white;}#sk-container-id-1 div.sk-label label {font-family: monospace;font-weight: bold;display: inline-block;line-height: 1.2em;}#sk-container-id-1 div.sk-label-container {text-align: center;}#sk-container-id-1 div.sk-container {/* jupyter's `normalize.less` sets `[hidden] { display: none; }` but bootstrap.min.css set `[hidden] { display: none !important; }` so we also need the `!important` here to be able to override the default hidden behavior on the sphinx rendered scikit-learn.org. See: https://github.com/scikit-learn/scikit-learn/issues/21755 */display: inline-block !important;position: relative;}#sk-container-id-1 div.sk-text-repr-fallback {display: none;}</style><div id=\"sk-container-id-1\" class=\"sk-top-container\"><div class=\"sk-text-repr-fallback\"><pre>GridSearchCV(cv=5,\n",
       "             estimator=RandomForestRegressor(max_features=5,\n",
       "                                             min_samples_split=4, n_jobs=-1),\n",
       "             n_jobs=-1,\n",
       "             param_grid={&#x27;max_features&#x27;: [4, 5, 6, 7, 8, 9, 10],\n",
       "                         &#x27;min_samples_split&#x27;: [2, 3, 10]})</pre><b>In a Jupyter environment, please rerun this cell to show the HTML representation or trust the notebook. <br />On GitHub, the HTML representation is unable to render, please try loading this page with nbviewer.org.</b></div><div class=\"sk-container\" hidden><div class=\"sk-item sk-dashed-wrapped\"><div class=\"sk-label-container\"><div class=\"sk-label sk-toggleable\"><input class=\"sk-toggleable__control sk-hidden--visually\" id=\"sk-estimator-id-1\" type=\"checkbox\" ><label for=\"sk-estimator-id-1\" class=\"sk-toggleable__label sk-toggleable__label-arrow\">GridSearchCV</label><div class=\"sk-toggleable__content\"><pre>GridSearchCV(cv=5,\n",
       "             estimator=RandomForestRegressor(max_features=5,\n",
       "                                             min_samples_split=4, n_jobs=-1),\n",
       "             n_jobs=-1,\n",
       "             param_grid={&#x27;max_features&#x27;: [4, 5, 6, 7, 8, 9, 10],\n",
       "                         &#x27;min_samples_split&#x27;: [2, 3, 10]})</pre></div></div></div><div class=\"sk-parallel\"><div class=\"sk-parallel-item\"><div class=\"sk-item\"><div class=\"sk-label-container\"><div class=\"sk-label sk-toggleable\"><input class=\"sk-toggleable__control sk-hidden--visually\" id=\"sk-estimator-id-2\" type=\"checkbox\" ><label for=\"sk-estimator-id-2\" class=\"sk-toggleable__label sk-toggleable__label-arrow\">estimator: RandomForestRegressor</label><div class=\"sk-toggleable__content\"><pre>RandomForestRegressor(max_features=5, min_samples_split=4, n_jobs=-1)</pre></div></div></div><div class=\"sk-serial\"><div class=\"sk-item\"><div class=\"sk-estimator sk-toggleable\"><input class=\"sk-toggleable__control sk-hidden--visually\" id=\"sk-estimator-id-3\" type=\"checkbox\" ><label for=\"sk-estimator-id-3\" class=\"sk-toggleable__label sk-toggleable__label-arrow\">RandomForestRegressor</label><div class=\"sk-toggleable__content\"><pre>RandomForestRegressor(max_features=5, min_samples_split=4, n_jobs=-1)</pre></div></div></div></div></div></div></div></div></div></div>"
      ],
      "text/plain": [
       "GridSearchCV(cv=5,\n",
       "             estimator=RandomForestRegressor(max_features=5,\n",
       "                                             min_samples_split=4, n_jobs=-1),\n",
       "             n_jobs=-1,\n",
       "             param_grid={'max_features': [4, 5, 6, 7, 8, 9, 10],\n",
       "                         'min_samples_split': [2, 3, 10]})"
      ]
     },
     "execution_count": 63,
     "metadata": {},
     "output_type": "execute_result"
    }
   ],
   "source": [
    "grid_search.fit(X_train, y_train)"
   ]
  },
  {
   "cell_type": "code",
   "execution_count": 65,
   "id": "65f8f9c7-fd19-46a8-b76f-7204dbebca0b",
   "metadata": {},
   "outputs": [
    {
     "data": {
      "text/plain": [
       "{'max_features': 4, 'min_samples_split': 2}"
      ]
     },
     "execution_count": 65,
     "metadata": {},
     "output_type": "execute_result"
    }
   ],
   "source": [
    "# Best parameters\n",
    "grid_search.best_params_"
   ]
  },
  {
   "cell_type": "code",
   "execution_count": null,
   "id": "9c801a57-a59d-4efa-b393-4029b4d6435b",
   "metadata": {},
   "outputs": [],
   "source": []
  },
  {
   "cell_type": "markdown",
   "id": "d796fea0-4147-4506-bc81-1df9f9d9d5b3",
   "metadata": {},
   "source": [
    "# Checking model performance with test size = 0.1"
   ]
  },
  {
   "cell_type": "code",
   "execution_count": 66,
   "id": "2ddfb7fe-0ff7-424e-bffa-a672661eced7",
   "metadata": {},
   "outputs": [],
   "source": [
    "# Split Data into train and test with test_size = 0.1(90% data into train and 10% to test)\n",
    "\n",
    "X_train, X_test, y_train, y_test = train_test_split(X, y, test_size = 0.1, random_state = 42)"
   ]
  },
  {
   "cell_type": "code",
   "execution_count": 67,
   "id": "ee21d628-1af8-4973-848f-18c8345542ef",
   "metadata": {},
   "outputs": [
    {
     "name": "stdout",
     "output_type": "stream",
     "text": [
      "r2_score: 0.6363216852464182\n",
      "MAE: 7264.5952221849\n",
      "MSE: 75992712.22135596\n",
      "\n",
      "Coef: [4.42911803e+02 5.25765245e+02 4.08212376e-01 9.22873354e+01\n",
      " 2.31517208e+00 2.51617523e+02 1.89309912e+04]\n",
      "Intercept: 37413.573696342886\n"
     ]
    }
   ],
   "source": [
    "# create Linear regression model with test size = 0.1\n",
    "linear_reg = LinearRegression()\n",
    "\n",
    "# Fit model with train data\n",
    "linear_reg.fit(X_train, y_train)\n",
    "\n",
    "# Prediction using test data\n",
    "linear_reg_pred = linear_reg.predict(X_test)\n",
    "\n",
    "# Calculate and print the R-squared (r2) score to evaluate model performance\n",
    "print(\"r2_score:\",r2_score(y_test, linear_reg_pred))\n",
    "\n",
    "# Calculate and print the mean absolute error(MSE) score to evaluate model performance\n",
    "print(\"MAE:\", mean_absolute_error(y_test, linear_reg_pred))\n",
    "\n",
    "# Calculate and print the Mean Squared Error (MSE) to evaluate prediction errors\n",
    "print(\"MSE:\", mean_squared_error(y_test, linear_reg_pred))\n",
    "\n",
    "print()\n",
    "\n",
    "# Print the coefficients of the linear regression model\n",
    "print(\"Coef:\",linear_reg.coef_)\n",
    "\n",
    "# Print the intercept of the linear regression model\n",
    "print(\"Intercept:\",linear_reg.intercept_)"
   ]
  },
  {
   "cell_type": "code",
   "execution_count": 68,
   "id": "15a457ea-a7f6-48d9-991c-6fb2b6c647fc",
   "metadata": {},
   "outputs": [
    {
     "name": "stdout",
     "output_type": "stream",
     "text": [
      "r2_score: 0.6356079191742243\n",
      "MAE: 7273.607496917734\n",
      "MSE: 76141857.81931205\n",
      "\n",
      "Coef: [4.42864404e+02 5.20710813e+02 4.08256354e-01 9.19186306e+01\n",
      " 2.35030487e+00 2.51556414e+02 1.88488104e+04]\n",
      "Intercept: 37431.67335348472\n"
     ]
    }
   ],
   "source": [
    "# Create Ridge regression with test size = 0.1\n",
    "ridge = Ridge()\n",
    "\n",
    "# Fit model with train data\n",
    "ridge.fit(X_train, y_train)\n",
    "\n",
    "# Prediction using test data\n",
    "ridge_predict = ridge.predict(X_test)\n",
    "\n",
    "# Calculate and print the R-squared (r2) score to evaluate model performance\n",
    "print(\"r2_score:\",r2_score(y_test, ridge_predict))\n",
    "\n",
    "# Calculate and print the mean absolute error(MSE) score to evaluate model performance\n",
    "print(\"MAE:\", mean_absolute_error(y_test, ridge_predict))\n",
    "\n",
    "# Calculate and print the Mean Squared Error (MSE) to evaluate prediction errors\n",
    "print(\"MSE:\", mean_squared_error(y_test, ridge_predict))\n",
    "\n",
    "print()\n",
    "\n",
    "# Print the coefficients of the linear regression model\n",
    "print(\"Coef:\",ridge.coef_)\n",
    "\n",
    "# Print the intercept of the linear regression model\n",
    "print(\"Intercept:\",ridge.intercept_)"
   ]
  },
  {
   "cell_type": "code",
   "execution_count": 97,
   "id": "00f4c71c-f602-4602-87b6-06644940fdfc",
   "metadata": {},
   "outputs": [
    {
     "name": "stdout",
     "output_type": "stream",
     "text": [
      "r2_score: 0.5972640369789143\n",
      "MAE: 7149.40271918104\n",
      "MSE: 76618490.75552183\n",
      "\n",
      "Coef: [5.17233686e+02 4.80438633e+02 4.22270801e-01 8.35234012e+00\n",
      " 1.95859703e+00 2.43690601e+02 1.85655957e+04]\n",
      "Intercept: 37168.118274432956\n"
     ]
    }
   ],
   "source": [
    "# Create Ridge regression model with alpha = 0.3 and solver = cholesky\n",
    "ridge_tuned = Ridge(alpha=0.4, solver='cholesky')\n",
    "\n",
    "# Fit model with train data\n",
    "ridge_tuned.fit(X_train, y_train)\n",
    "\n",
    "# Prediction using test data\n",
    "ridge_predict_tuned = ridge.predict(X_test)\n",
    "\n",
    "# Calculate and print the R-squared (r2) score to evaluate model performance\n",
    "print(\"r2_score:\",r2_score(y_test, ridge_predict_tuned))\n",
    "\n",
    "# Calculate and print the mean absolute error(MSE) score to evaluate model performance\n",
    "print(\"MAE:\", mean_absolute_error(y_test, ridge_predict_tuned))\n",
    "\n",
    "# Calculate and print the Mean Squared Error (MSE) to evaluate prediction errors\n",
    "print(\"MSE:\", mean_squared_error(y_test, ridge_predict_tuned))\n",
    "\n",
    "print()\n",
    "\n",
    "# Print the coefficients of the linear regression model\n",
    "print(\"Coef:\",ridge_tuned.coef_)\n",
    "\n",
    "# Print the intercept of the linear regression model\n",
    "print(\"Intercept:\",ridge_tuned.intercept_)"
   ]
  },
  {
   "cell_type": "code",
   "execution_count": 70,
   "id": "416a1144-035a-44a4-859e-40ac75a8ffa7",
   "metadata": {},
   "outputs": [
    {
     "name": "stdout",
     "output_type": "stream",
     "text": [
      "r2_score: 0.6362725365808041\n",
      "MAE: 7265.304096193648\n",
      "MSE: 76002982.12266862\n",
      "\n",
      "Coef: [4.41583747e+02 5.21553553e+02 4.08206824e-01 9.16362699e+01\n",
      " 2.30982336e+00 2.51603269e+02 1.89244902e+04]\n",
      "Intercept: 37422.56964438998\n"
     ]
    }
   ],
   "source": [
    "# Create Lasso regression model with default parameters\n",
    "lasso = Lasso()\n",
    "\n",
    "# Fit model on train data\n",
    "lasso.fit(X_train, y_train)\n",
    "\n",
    "# Prediction on test data\n",
    "lasso_pred = lasso.predict(X_test)\n",
    "\n",
    "# Calculate and print the R-squared (r2) score to evaluate model performance\n",
    "print(\"r2_score:\",r2_score(y_test, lasso_pred))\n",
    "\n",
    "# Calculate and print the mean absolute error(MSE) score to evaluate model performance\n",
    "print(\"MAE:\", mean_absolute_error(y_test, lasso_pred))\n",
    "\n",
    "# Calculate and print the Mean Squared Error (MSE) to evaluate prediction errors\n",
    "print(\"MSE:\", mean_squared_error(y_test, lasso_pred))\n",
    "\n",
    "print()\n",
    "\n",
    "# Print the coefficients of the linear regression model\n",
    "print(\"Coef:\",lasso.coef_)\n",
    "\n",
    "# Print the intercept of the linear regression model\n",
    "print(\"Intercept:\",lasso.intercept_)"
   ]
  },
  {
   "cell_type": "code",
   "execution_count": 98,
   "id": "8cf0fcb2-1da9-41e8-af1a-1719676de662",
   "metadata": {},
   "outputs": [
    {
     "name": "stdout",
     "output_type": "stream",
     "text": [
      "r2_score: 0.5933323326500893\n",
      "MAE: 7191.42240870942\n",
      "MSE: 77366477.7232408\n"
     ]
    }
   ],
   "source": [
    "# Create Lasso regression model with tuned parameter\n",
    "lasso_tuned = Lasso(alpha=0.4)\n",
    "\n",
    "# Fit model on train data\n",
    "lasso_tuned.fit(X_train, y_train)\n",
    "\n",
    "# Prediction on test data\n",
    "lasso_tuned_pred = lasso_tuned.predict(X_test)\n",
    "\n",
    "# Calculate and print the R-squared (r2) score to evaluate model performance\n",
    "print(\"r2_score:\",r2_score(y_test, lasso_tuned_pred))\n",
    "\n",
    "# Calculate and print the mean absolute error(MSE) score to evaluate model performance\n",
    "print(\"MAE:\", mean_absolute_error(y_test, lasso_tuned_pred))\n",
    "\n",
    "# Calculate and print the Mean Squared Error (MSE) to evaluate prediction errors\n",
    "print(\"MSE:\", mean_squared_error(y_test, lasso_tuned_pred))"
   ]
  },
  {
   "cell_type": "code",
   "execution_count": 72,
   "id": "e854126b-9541-4a1e-90aa-8a790f123c58",
   "metadata": {},
   "outputs": [
    {
     "name": "stdout",
     "output_type": "stream",
     "text": [
      "r2_score: 0.47197776997985597\n",
      "MAE: 6948.319245283019\n",
      "MSE: 110333335.10574466\n"
     ]
    }
   ],
   "source": [
    "# Create Decision tree regression with default parameters\n",
    "dtr = DecisionTreeRegressor()\n",
    "\n",
    "# Fit model on train data\n",
    "dtr.fit(X_train, y_train)\n",
    "\n",
    "# Prediction on test data\n",
    "dtr_pred = dtr.predict(X_test)\n",
    "\n",
    "# Calculate and print the R-squared (r2) score to evaluate model performance\n",
    "print(\"r2_score:\",r2_score(y_test, dtr_pred))\n",
    "\n",
    "# Calculate and print the mean absolute error(MSE) score to evaluate model performance\n",
    "print(\"MAE:\", mean_absolute_error(y_test, dtr_pred))\n",
    "\n",
    "# Calculate and print the Mean Squared Error (MSE) to evaluate prediction errors\n",
    "print(\"MSE:\", mean_squared_error(y_test, dtr_pred))"
   ]
  },
  {
   "cell_type": "code",
   "execution_count": 73,
   "id": "6740e14f-5383-4734-8b84-2b71d7f4b478",
   "metadata": {},
   "outputs": [
    {
     "name": "stdout",
     "output_type": "stream",
     "text": [
      "r2_score: 0.6302592573081195\n",
      "MAE: 7013.486928870295\n",
      "MSE: 77259492.0181937\n"
     ]
    }
   ],
   "source": [
    "# Create DecisionTreeRegressor model with tuned parameter\n",
    "dtr_tuned = DecisionTreeRegressor(max_depth=4)\n",
    "\n",
    "# Fit model on train data\n",
    "dtr_tuned.fit(X_train, y_train)\n",
    "\n",
    "# Prediction using test data\n",
    "dtr_tuned_pred = dtr_tuned.predict(X_test)\n",
    "\n",
    "# Calculate and print the R-squared (r2) score to evaluate model performance\n",
    "print(\"r2_score:\",r2_score(y_test, dtr_tuned_pred))\n",
    "\n",
    "# Calculate and print the mean absolute error(MSE) score to evaluate model performance\n",
    "print(\"MAE:\", mean_absolute_error(y_test, dtr_tuned_pred))\n",
    "\n",
    "# Calculate and print the Mean Squared Error (MSE) to evaluate prediction errors\n",
    "print(\"MSE:\", mean_squared_error(y_test, dtr_tuned_pred))"
   ]
  },
  {
   "cell_type": "code",
   "execution_count": 74,
   "id": "4ac75a71-b83f-4d5e-bc4a-a921e6733d9a",
   "metadata": {},
   "outputs": [
    {
     "name": "stdout",
     "output_type": "stream",
     "text": [
      "r2_score: 0.6728626470860293\n",
      "MAE: 6503.93636226415\n",
      "MSE: 68357264.39639935\n"
     ]
    }
   ],
   "source": [
    "# Create Random forest regressor model on default parameters\n",
    "rnd = RandomForestRegressor()\n",
    "\n",
    "#Fit model on train data\n",
    "rnd.fit(X_train, y_train)\n",
    "\n",
    "# prediction using test data\n",
    "rnd_pred = rnd.predict(X_test)\n",
    "\n",
    "# Calculate and print the R-squared (r2) score to evaluate model performance\n",
    "print(\"r2_score:\",r2_score(y_test, rnd_pred))\n",
    "\n",
    "# Calculate and print the mean absolute error(MSE) score to evaluate model performance\n",
    "print(\"MAE:\", mean_absolute_error(y_test, rnd_pred))\n",
    "\n",
    "# Calculate and print the Mean Squared Error (MSE) to evaluate prediction errors\n",
    "print(\"MSE:\", mean_squared_error(y_test, rnd_pred))"
   ]
  },
  {
   "cell_type": "code",
   "execution_count": 99,
   "id": "d2e09dd7-f8d2-44e3-994e-cf0e48a68a73",
   "metadata": {},
   "outputs": [
    {
     "name": "stdout",
     "output_type": "stream",
     "text": [
      "r2_score: 0.6431477586221555\n",
      "MAE: 6317.212657345288\n",
      "MSE: 67889343.55898117\n"
     ]
    }
   ],
   "source": [
    "# Create Random forest regressor model with max features = 5 and min sample split = 4\n",
    "rnd_tuned = RandomForestRegressor(n_jobs=-1, max_features=5, min_samples_split=4)\n",
    "\n",
    "# Fit model using train data\n",
    "rnd_tuned.fit(X_train, y_train)\n",
    "\n",
    "# Prediction using test data\n",
    "rnd_tuned_pred = rnd_tuned.predict(X_test)\n",
    "\n",
    "# Calculate and print the R-squared (r2) score to evaluate model performance\n",
    "print(\"r2_score:\",r2_score(y_test, rnd_tuned_pred))\n",
    "\n",
    "# Calculate and print the mean absolute error(MSE) score to evaluate model performance\n",
    "print(\"MAE:\", mean_absolute_error(y_test, rnd_tuned_pred))\n",
    "\n",
    "# Calculate and print the Mean Squared Error (MSE) to evaluate prediction errors\n",
    "print(\"MSE:\", mean_squared_error(y_test, rnd_tuned_pred))"
   ]
  },
  {
   "cell_type": "markdown",
   "id": "7461a657-700b-4a5f-87b6-fdfb56760b09",
   "metadata": {},
   "source": [
    "# Performing Feature scaling on dataset"
   ]
  },
  {
   "cell_type": "code",
   "execution_count": 84,
   "id": "f8c20f38-0f01-42ac-8738-8ff462a4db5e",
   "metadata": {},
   "outputs": [],
   "source": [
    "# Split data into independent and target variable\n",
    "X = df.loc[:, df.columns != 'CTC']\n",
    "y = df['CTC']"
   ]
  },
  {
   "cell_type": "code",
   "execution_count": 85,
   "id": "30654081-db91-44c0-9144-69095f574c44",
   "metadata": {},
   "outputs": [],
   "source": [
    "# Split Data into train and test with test_size = 0.2(80% data into train and 20% to test)\n",
    "\n",
    "X_train, X_test, y_train, y_test = train_test_split(X, y, test_size = 0.2, random_state = 42)"
   ]
  },
  {
   "cell_type": "code",
   "execution_count": 86,
   "id": "a4b2934b-e2eb-42b2-ad1f-928b0014392f",
   "metadata": {},
   "outputs": [],
   "source": [
    "# Import Standard scaler from sklearn for feature scaling(mean=0, std dev=1)\n",
    "from sklearn.preprocessing import StandardScaler"
   ]
  },
  {
   "cell_type": "code",
   "execution_count": 87,
   "id": "e9f000ab-4030-483d-b44a-4d540a3f64cf",
   "metadata": {},
   "outputs": [],
   "source": [
    "# Create standard scaler object\n",
    "scaler = StandardScaler()"
   ]
  },
  {
   "cell_type": "code",
   "execution_count": 88,
   "id": "237aa29c-8179-4776-9c38-d2ba2a0a202e",
   "metadata": {},
   "outputs": [],
   "source": [
    "# Scale the features in the training data using a previously fitted scaler\n",
    "X_train_scaled = scaler.fit_transform(X_train)\n",
    "\n",
    "# Scale the features in the test data using the same scaler to ensure consistency\n",
    "X_test_scaled = scaler.transform(X_test)"
   ]
  },
  {
   "cell_type": "code",
   "execution_count": 89,
   "id": "3a1fce15-9074-4307-aa7c-9cbdcbec1e0c",
   "metadata": {},
   "outputs": [],
   "source": [
    "# Storing otput of X_train_scaled into dataframe for checking change done on values after scaling\n",
    "df_X_train = pd.DataFrame(X_train_scaled, columns=X_train.columns)\n",
    "df_X_test = pd.DataFrame(X_test_scaled, columns = X_test.columns)"
   ]
  },
  {
   "cell_type": "code",
   "execution_count": 90,
   "id": "884655e8-d368-4349-b188-3b361425fe30",
   "metadata": {},
   "outputs": [
    {
     "data": {
      "text/html": [
       "<div>\n",
       "<style scoped>\n",
       "    .dataframe tbody tr th:only-of-type {\n",
       "        vertical-align: middle;\n",
       "    }\n",
       "\n",
       "    .dataframe tbody tr th {\n",
       "        vertical-align: top;\n",
       "    }\n",
       "\n",
       "    .dataframe thead th {\n",
       "        text-align: right;\n",
       "    }\n",
       "</style>\n",
       "<table border=\"1\" class=\"dataframe\">\n",
       "  <thead>\n",
       "    <tr style=\"text-align: right;\">\n",
       "      <th></th>\n",
       "      <th>College</th>\n",
       "      <th>City</th>\n",
       "      <th>Previous CTC</th>\n",
       "      <th>Previous job change</th>\n",
       "      <th>Graduation Marks</th>\n",
       "      <th>EXP (Month)</th>\n",
       "      <th>Role_Manager</th>\n",
       "    </tr>\n",
       "  </thead>\n",
       "  <tbody>\n",
       "    <tr>\n",
       "      <th>count</th>\n",
       "      <td>1271.0</td>\n",
       "      <td>1271.0</td>\n",
       "      <td>1271.0</td>\n",
       "      <td>1271.0</td>\n",
       "      <td>1271.0</td>\n",
       "      <td>1271.0</td>\n",
       "      <td>1271.0</td>\n",
       "    </tr>\n",
       "    <tr>\n",
       "      <th>mean</th>\n",
       "      <td>-0.0</td>\n",
       "      <td>0.0</td>\n",
       "      <td>0.0</td>\n",
       "      <td>-0.0</td>\n",
       "      <td>-0.0</td>\n",
       "      <td>-0.0</td>\n",
       "      <td>-0.0</td>\n",
       "    </tr>\n",
       "    <tr>\n",
       "      <th>std</th>\n",
       "      <td>1.0</td>\n",
       "      <td>1.0</td>\n",
       "      <td>1.0</td>\n",
       "      <td>1.0</td>\n",
       "      <td>1.0</td>\n",
       "      <td>1.0</td>\n",
       "      <td>1.0</td>\n",
       "    </tr>\n",
       "    <tr>\n",
       "      <th>min</th>\n",
       "      <td>-1.2</td>\n",
       "      <td>-1.0</td>\n",
       "      <td>-2.8</td>\n",
       "      <td>-1.4</td>\n",
       "      <td>-1.7</td>\n",
       "      <td>-1.5</td>\n",
       "      <td>-0.5</td>\n",
       "    </tr>\n",
       "    <tr>\n",
       "      <th>25%</th>\n",
       "      <td>-1.2</td>\n",
       "      <td>-1.0</td>\n",
       "      <td>-0.8</td>\n",
       "      <td>-0.5</td>\n",
       "      <td>-0.9</td>\n",
       "      <td>-0.9</td>\n",
       "      <td>-0.5</td>\n",
       "    </tr>\n",
       "    <tr>\n",
       "      <th>50%</th>\n",
       "      <td>-0.0</td>\n",
       "      <td>1.0</td>\n",
       "      <td>-0.0</td>\n",
       "      <td>0.4</td>\n",
       "      <td>0.0</td>\n",
       "      <td>-0.0</td>\n",
       "      <td>-0.5</td>\n",
       "    </tr>\n",
       "    <tr>\n",
       "      <th>75%</th>\n",
       "      <td>1.2</td>\n",
       "      <td>1.0</td>\n",
       "      <td>0.7</td>\n",
       "      <td>1.3</td>\n",
       "      <td>0.9</td>\n",
       "      <td>0.9</td>\n",
       "      <td>-0.5</td>\n",
       "    </tr>\n",
       "    <tr>\n",
       "      <th>max</th>\n",
       "      <td>1.2</td>\n",
       "      <td>1.0</td>\n",
       "      <td>3.4</td>\n",
       "      <td>1.3</td>\n",
       "      <td>1.7</td>\n",
       "      <td>1.7</td>\n",
       "      <td>2.0</td>\n",
       "    </tr>\n",
       "  </tbody>\n",
       "</table>\n",
       "</div>"
      ],
      "text/plain": [
       "       College    City  Previous CTC  Previous job change  Graduation Marks  \\\n",
       "count   1271.0  1271.0        1271.0               1271.0            1271.0   \n",
       "mean      -0.0     0.0           0.0                 -0.0              -0.0   \n",
       "std        1.0     1.0           1.0                  1.0               1.0   \n",
       "min       -1.2    -1.0          -2.8                 -1.4              -1.7   \n",
       "25%       -1.2    -1.0          -0.8                 -0.5              -0.9   \n",
       "50%       -0.0     1.0          -0.0                  0.4               0.0   \n",
       "75%        1.2     1.0           0.7                  1.3               0.9   \n",
       "max        1.2     1.0           3.4                  1.3               1.7   \n",
       "\n",
       "       EXP (Month)  Role_Manager  \n",
       "count       1271.0        1271.0  \n",
       "mean          -0.0          -0.0  \n",
       "std            1.0           1.0  \n",
       "min           -1.5          -0.5  \n",
       "25%           -0.9          -0.5  \n",
       "50%           -0.0          -0.5  \n",
       "75%            0.9          -0.5  \n",
       "max            1.7           2.0  "
      ]
     },
     "execution_count": 90,
     "metadata": {},
     "output_type": "execute_result"
    }
   ],
   "source": [
    "# Statistical changes sfter scaling\n",
    "np.round(df_X_train.describe(), 1)\n",
    "\n",
    "# Here we can observe that, after scaling, mean is zero and standard deviation is 1"
   ]
  },
  {
   "cell_type": "markdown",
   "id": "d8528425-e40c-41bc-a978-32e9a4009ae4",
   "metadata": {},
   "source": [
    "## Checking model performance after scaling with test size 0.2"
   ]
  },
  {
   "cell_type": "code",
   "execution_count": 91,
   "id": "4829b840-6ef4-4942-a3c9-da497549b6ca",
   "metadata": {},
   "outputs": [
    {
     "name": "stdout",
     "output_type": "stream",
     "text": [
      "r2_score: 0.593351795838508\n",
      "MAE: 7191.231067500048\n",
      "MSE: 77362774.9495656\n",
      "\n",
      "Coef: [ 435.09743711  241.31880694 2802.97570998    9.81979783   29.0192253\n",
      " 3467.75304336 7471.39306988]\n",
      "Intercept: 75284.838245476\n"
     ]
    }
   ],
   "source": [
    "# Create LinearRegression model with scaled data and test size 0.2\n",
    "lr_scaled = LinearRegression()\n",
    "\n",
    "# Fit model on train data\n",
    "lr_scaled.fit(X_train_scaled, y_train)\n",
    "\n",
    "# Make prediction using test data\n",
    "lr_scaled_pred = lr_scaled.predict(X_test_scaled)\n",
    "\n",
    "# Calculate and print the R-squared (r2) score to evaluate model performance\n",
    "print(\"r2_score:\",r2_score(y_test, lr_scaled_pred))\n",
    "\n",
    "# Calculate and print the mean absolute error(MSE) score to evaluate model performance\n",
    "print(\"MAE:\", mean_absolute_error(y_test, lr_scaled_pred))\n",
    "\n",
    "# Calculate and print the Mean Squared Error (MSE) to evaluate prediction errors\n",
    "print(\"MSE:\", mean_squared_error(y_test, lr_scaled_pred))\n",
    "\n",
    "print()\n",
    "\n",
    "# Print the coefficients of the linear regression model\n",
    "print(\"Coef:\",lr_scaled.coef_)\n",
    "\n",
    "# Print the intercept of the linear regression model\n",
    "print(\"Intercept:\",lr_scaled.intercept_)"
   ]
  },
  {
   "cell_type": "code",
   "execution_count": 92,
   "id": "8072e28f-5f0e-4611-b8d9-50220901ef5b",
   "metadata": {},
   "outputs": [
    {
     "name": "stdout",
     "output_type": "stream",
     "text": [
      "r2_score: 0.5932150226490305\n",
      "MAE: 7192.60467728189\n",
      "MSE: 77388795.36074264\n"
     ]
    }
   ],
   "source": [
    "# Create Ridge regressor after feature scaling with test size 0.2\n",
    "r_scaled = Ridge()\n",
    "\n",
    "# Fit model using train data\n",
    "r_scaled.fit(X_train_scaled, y_train)\n",
    "\n",
    "# Make prediction on test data\n",
    "r_scaled_pred = r_scaled.predict(X_test_scaled)\n",
    "\n",
    "# Calculate and print the R-squared (r2) score to evaluate model performance\n",
    "print(\"r2_score:\",r2_score(y_test, r_scaled_pred))\n",
    "\n",
    "# Calculate and print the mean absolute error(MSE) score to evaluate model performance\n",
    "print(\"MAE:\", mean_absolute_error(y_test, r_scaled_pred))\n",
    "\n",
    "# Calculate and print the Mean Squared Error (MSE) to evaluate prediction errors\n",
    "print(\"MSE:\", mean_squared_error(y_test, r_scaled_pred))"
   ]
  },
  {
   "cell_type": "code",
   "execution_count": 93,
   "id": "ba37b2f2-d2bf-4113-9e46-27053ea9e0fb",
   "metadata": {},
   "outputs": [
    {
     "name": "stdout",
     "output_type": "stream",
     "text": [
      "r2_score: 0.5933169519706638\n",
      "MAE: 7191.560845403443\n",
      "MSE: 77369403.8201196\n"
     ]
    }
   ],
   "source": [
    "# Create Lasso regressor model after feature scaling and test size 0.2\n",
    "l_scaled = Lasso()\n",
    "\n",
    "# Fit model on train data\n",
    "l_scaled.fit(X_train_scaled, y_train)\n",
    "\n",
    "# Make prediction using test data\n",
    "l_scaled_pred = l_scaled.predict(X_test_scaled)\n",
    "\n",
    "# Calculate and print the R-squared (r2) score to evaluate model performance\n",
    "print(\"r2_score:\",r2_score(y_test, l_scaled_pred))\n",
    "\n",
    "# Calculate and print the mean absolute error(MSE) score to evaluate model performance\n",
    "print(\"MAE:\", mean_absolute_error(y_test, l_scaled_pred))\n",
    "\n",
    "# Calculate and print the Mean Squared Error (MSE) to evaluate prediction errors\n",
    "print(\"MSE:\", mean_squared_error(y_test, l_scaled_pred))"
   ]
  },
  {
   "cell_type": "code",
   "execution_count": 94,
   "id": "a024b709-a0f3-4280-98cc-f4144d17e6e1",
   "metadata": {},
   "outputs": [
    {
     "name": "stdout",
     "output_type": "stream",
     "text": [
      "r2_score: 0.3035084673251003\n",
      "MAE: 8512.0436163522\n",
      "MSE: 132504009.96535064\n"
     ]
    }
   ],
   "source": [
    "# Create Decision Tree regression after feature scaling with test size of 0.2\n",
    "dt_scaled = DecisionTreeRegressor()\n",
    "\n",
    "# Fit model on train data\n",
    "dt_scaled.fit(X_train_scaled, y_train)\n",
    "\n",
    "# Make prediction using test data\n",
    "dt_scaled_pred = dt_scaled.predict(X_test_scaled)\n",
    "\n",
    "# Calculate and print the R-squared (r2) score to evaluate model performance\n",
    "print(\"r2_score:\",r2_score(y_test, dt_scaled_pred))\n",
    "\n",
    "# Calculate and print the mean absolute error(MSE) score to evaluate model performance\n",
    "print(\"MAE:\", mean_absolute_error(y_test, dt_scaled_pred))\n",
    "\n",
    "# Calculate and print the Mean Squared Error (MSE) to evaluate prediction errors\n",
    "print(\"MSE:\", mean_squared_error(y_test, dt_scaled_pred))"
   ]
  },
  {
   "cell_type": "code",
   "execution_count": 95,
   "id": "fd04e36f-f9f6-49e6-a6e5-4887559acc57",
   "metadata": {},
   "outputs": [
    {
     "name": "stdout",
     "output_type": "stream",
     "text": [
      "r2_score: 0.6384436567214311\n",
      "MAE: 6389.1234110062915\n",
      "MSE: 68784275.27873626\n"
     ]
    }
   ],
   "source": [
    "# Create Random Forest regressor model on default parameter after feature scaling with test size 0.2\n",
    "rf_scaled = RandomForestRegressor()\n",
    "\n",
    "# Fit model on train data\n",
    "rf_scaled.fit(X_train_scaled, y_train)\n",
    "\n",
    "# Prediction using test data\n",
    "rf_scaled_pred = rf_scaled.predict(X_test_scaled)\n",
    "\n",
    "# Calculate and print the R-squared (r2) score to evaluate model performance\n",
    "print(\"r2_score:\",r2_score(y_test, rf_scaled_pred))\n",
    "\n",
    "# Calculate and print the mean absolute error(MSE) score to evaluate model performance\n",
    "print(\"MAE:\", mean_absolute_error(y_test, rf_scaled_pred))\n",
    "\n",
    "# Calculate and print the Mean Squared Error (MSE) to evaluate prediction errors\n",
    "print(\"MSE:\", mean_squared_error(y_test, rf_scaled_pred))"
   ]
  },
  {
   "cell_type": "code",
   "execution_count": 96,
   "id": "5a975218-ed7b-412f-a5f3-3b602f60e743",
   "metadata": {},
   "outputs": [
    {
     "name": "stdout",
     "output_type": "stream",
     "text": [
      "r2_score: 0.637001583192484\n",
      "MAE: 6373.682603862682\n",
      "MSE: 69058622.51238678\n"
     ]
    }
   ],
   "source": [
    "# Create Random Forest model after feature scaling with parameter tunned\n",
    "rf_scaled_tuned = RandomForestRegressor(max_features=5, min_samples_split=3, n_jobs=-1)\n",
    "\n",
    "# Fit model on train data\n",
    "rf_scaled_tuned.fit(X_train_scaled, y_train)\n",
    "\n",
    "# Prediction on test data\n",
    "rf_scaled_tuned_pred = rf_scaled_tuned.predict(X_test_scaled)\n",
    "\n",
    "# Calculate and print the R-squared (r2) score to evaluate model performance\n",
    "print(\"r2_score:\",r2_score(y_test, rf_scaled_tuned_pred))\n",
    "\n",
    "# Calculate and print the mean absolute error(MSE) score to evaluate model performance\n",
    "print(\"MAE:\", mean_absolute_error(y_test, rf_scaled_tuned_pred))\n",
    "\n",
    "# Calculate and print the Mean Squared Error (MSE) to evaluate prediction errors\n",
    "print(\"MSE:\", mean_squared_error(y_test, rf_scaled_tuned_pred))"
   ]
  },
  {
   "cell_type": "markdown",
   "id": "e42f6397-bd65-4ab8-90dc-9bd2c318d17e",
   "metadata": {},
   "source": [
    "To compare the performance of different machine learning models, we'll focus on the R-squared (r2_score) metric, which measures the goodness of fit of the models. A higher R-squared indicates a better fit to the data. Additionally, we'll consider Mean Absolute Error (MAE) and Mean Squared Error (MSE) for reference.\n",
    "\n",
    "Here's a summary of the model performance in the four scenarios:\n",
    "\n",
    "**Scenario 1 (Test size = 0.2):**\n",
    "- Linear Regression: r2_score = 0.5934\n",
    "- Ridge: r2_score = 0.5927\n",
    "- Lasso: r2_score = 0.5933\n",
    "- Decision Tree: r2_score = 0.3169\n",
    "- Random Forest: r2_score = 0.6323\n",
    "\n",
    "**Scenario 2 (Test size = 0.1):**\n",
    "- Linear Regression: r2_score = 0.6363\n",
    "- Ridge: r2_score = 0.6356\n",
    "- Lasso: r2_score = 0.6363\n",
    "- Decision Tree: r2_score = 0.6302\n",
    "- Random Forest: r2_score = 0.6728\n",
    "\n",
    "**Scenario 3 (Test size = 0.1 with feature scaling):**\n",
    "- Linear Regression: r2_score = 0.6363\n",
    "- Ridge: r2_score = 0.6363\n",
    "- Lasso: r2_score = 0.6363\n",
    "- Decision Tree: r2_score = 0.4657\n",
    "- Random Forest: r2_score = 0.6745\n",
    "\n",
    "**Scenario 4 (Test size = 0.2 with feature scaling):**\n",
    "- Linear Regression: r2_score = 0.5934\n",
    "- Ridge: r2_score = 0.5932\n",
    "- Lasso: r2_score = 0.5933\n",
    "- Decision Tree: r2_score = 0.3035\n",
    "- Random Forest: r2_score = 0.6384\n",
    "\n",
    "**Summary:**\n",
    "- Among the different models, Random Forest consistently performs well in all scenarios with or without feature scaling, and with varying test sizes. It achieves the highest R-squared scores, indicating a good fit to the data.\n",
    "- Linear Regression and Lasso also perform well but with slightly lower R-squared scores compared to Random Forest.\n",
    "- Decision Tree, on the other hand, has the lowest R-squared scores and performs the worst among the models in all scenarios.\n",
    "- Feature scaling appears to have a positive impact on model performance, as evidenced by the higher R-squared scores in scenarios with feature scaling compared to those without.\n",
    "\n",
    "Overall, if we consider R-squared as the primary metric for model performance, Random Forest is the top performer, followed by Linear Regression and Lasso. It's essential to consider other factors like computational efficiency, model interpretability, and the specific goals of your application when choosing the best model."
   ]
  },
  {
   "cell_type": "markdown",
   "id": "51951fb7-f837-407c-b771-2c2465ca57c9",
   "metadata": {},
   "source": [
    "# To further improve the performance of selected model, I can take several steps:\n",
    "- **Increase the Number of Trees (Estimators):**\n",
    "    Random Forest's performance often benefits from increasing the number of decision trees (estimators) in the ensemble.\n",
    "- **Tune Hyperparameters:** Perform a more thorough hyperparameter tuning by experimenting with different values for parameters like max_depth, min_samples_split, min_samples_leaf, and max_features. Grid Search or Randomized Search can help find the optimal combination of hyperparameters.\n",
    "- **Feature Selection:** Consider removing or reducing the importance of less informative features to improve the model's efficiency and potentially its performance."
   ]
  },
  {
   "cell_type": "code",
   "execution_count": null,
   "id": "0e2bd664-2820-480e-b4b0-933fe65da447",
   "metadata": {},
   "outputs": [],
   "source": []
  }
 ],
 "metadata": {
  "kernelspec": {
   "display_name": "Python 3 (ipykernel)",
   "language": "python",
   "name": "python3"
  },
  "language_info": {
   "codemirror_mode": {
    "name": "ipython",
    "version": 3
   },
   "file_extension": ".py",
   "mimetype": "text/x-python",
   "name": "python",
   "nbconvert_exporter": "python",
   "pygments_lexer": "ipython3",
   "version": "3.11.7"
  }
 },
 "nbformat": 4,
 "nbformat_minor": 5
}
